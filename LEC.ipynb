{
 "cells": [
  {
   "cell_type": "markdown",
   "metadata": {},
   "source": [
    "##LOAN ELIGIBILITY PREDICTOR"
   ]
  },
  {
   "cell_type": "markdown",
   "metadata": {},
   "source": [
    "## Roles & Responsibilities in Project\n",
    "\n",
    "### Lucia Martinez\n",
    "**Responsibilities:**\n",
    "- Develop and train machine learning models for predicting loan eligibility.\n",
    "- Conduct data analysis, preprocessing, and feature engineering.\n",
    "- Evaluate and optimize model performance.\n",
    "- Collaborate with other team members to choose the best model for deployment.\n",
    "- Implement and experiment with deep learning models, as demonstrated in the Keras Sequential Neural Network.\n",
    "\n",
    "### Abhishek Natani\n",
    "**Responsibilities:**\n",
    "- Explore and analyze the dataset to understand patterns and trends.\n",
    "- Handle missing data through imputation strategies.\n",
    "- Transform data and create new features, such as the 'Total_income' feature.\n",
    "- Work on data encoding and ensure compatibility with machine learning models.\n",
    "\n",
    "### Rochan Mehta\n",
    "**Responsibilities:**\n",
    "- Develop and maintain the Flask web application for the Loan Eligibility Calculator.\n",
    "- Implement Flask routes for user input and model prediction.\n",
    "- Set up and configure the Flask app to handle HTTP requests.\n",
    "- Design and create HTML templates for user interaction.\n",
    "- Ensure a smooth user experience and integrate the trained model into the web application.\n",
    "\n",
    "### Varun Sharma\n",
    "**Responsibilities:**\n",
    "- Perform hyperparameter tuning using techniques like GridSearchCV.\n",
    "- Optimize model parameters to achieve the best accuracy.\n",
    "- Evaluate different machine learning algorithms for loan eligibility prediction.\n",
    "- Document and communicate findings related to model performance and hyperparameter tuning.\n",
    "\n",
    "### Amrita Gyawali\n",
    "**Responsibilities:**\n",
    "- Conduct thorough testing of the Flask web application.\n",
    "- Ensure that user inputs are handled appropriately and securely.\n",
    "- Test the loan eligibility prediction functionality and verify accuracy.\n",
    "- Identify and report any bugs or issues in the application."
   ]
  },
  {
   "cell_type": "markdown",
   "metadata": {
    "id": "KK_ga8ErZuP-"
   },
   "source": [
    "### Import Libraries and Load Dataset\n",
    "- **Objective:** Start the Loan Eligibility Calculator project by importing necessary libraries and loading the dataset (`train.csv`).\n",
    "- **Actions:**\n",
    "  - Import libraries: pandas, numpy, seaborn, and matplotlib.\n",
    "  - Load the dataset using pandas and display initial information."
   ]
  },
  {
   "cell_type": "code",
   "execution_count": 28,
   "metadata": {
    "id": "cWTAyKpHMG_Q"
   },
   "outputs": [],
   "source": [
    "# Import necessary libraries\n",
    "import pandas as pd\n",
    "import numpy as np\n",
    "import seaborn as sns\n",
    "import matplotlib.pyplot as plt\n",
    "\n",
    "# Load the dataset\n",
    "df = pd.read_csv(\"train.csv\")\n"
   ]
  },
  {
   "cell_type": "code",
   "execution_count": 29,
   "metadata": {
    "colab": {
     "base_uri": "https://localhost:8080/",
     "height": 1000
    },
    "id": "WKfNBqzOMG_R",
    "outputId": "92f2e7a0-9ec1-46eb-c5b1-27b34f9a734f"
   },
   "outputs": [
    {
     "name": "stdout",
     "output_type": "stream",
     "text": [
      "First few rows of the dataset:\n"
     ]
    },
    {
     "data": {
      "text/html": [
       "<div>\n",
       "<style scoped>\n",
       "    .dataframe tbody tr th:only-of-type {\n",
       "        vertical-align: middle;\n",
       "    }\n",
       "\n",
       "    .dataframe tbody tr th {\n",
       "        vertical-align: top;\n",
       "    }\n",
       "\n",
       "    .dataframe thead th {\n",
       "        text-align: right;\n",
       "    }\n",
       "</style>\n",
       "<table border=\"1\" class=\"dataframe\">\n",
       "  <thead>\n",
       "    <tr style=\"text-align: right;\">\n",
       "      <th></th>\n",
       "      <th>Loan_ID</th>\n",
       "      <th>Gender</th>\n",
       "      <th>Married</th>\n",
       "      <th>Dependents</th>\n",
       "      <th>Education</th>\n",
       "      <th>Self_Employed</th>\n",
       "      <th>ApplicantIncome</th>\n",
       "      <th>CoapplicantIncome</th>\n",
       "      <th>LoanAmount</th>\n",
       "      <th>Loan_Amount_Term</th>\n",
       "      <th>Credit_History</th>\n",
       "      <th>Property_Area</th>\n",
       "      <th>Loan_Status</th>\n",
       "    </tr>\n",
       "  </thead>\n",
       "  <tbody>\n",
       "    <tr>\n",
       "      <th>0</th>\n",
       "      <td>LP001002</td>\n",
       "      <td>Male</td>\n",
       "      <td>No</td>\n",
       "      <td>0</td>\n",
       "      <td>Graduate</td>\n",
       "      <td>No</td>\n",
       "      <td>5849</td>\n",
       "      <td>0.0</td>\n",
       "      <td>NaN</td>\n",
       "      <td>360.0</td>\n",
       "      <td>1.0</td>\n",
       "      <td>Urban</td>\n",
       "      <td>Y</td>\n",
       "    </tr>\n",
       "    <tr>\n",
       "      <th>1</th>\n",
       "      <td>LP001003</td>\n",
       "      <td>Male</td>\n",
       "      <td>Yes</td>\n",
       "      <td>1</td>\n",
       "      <td>Graduate</td>\n",
       "      <td>No</td>\n",
       "      <td>4583</td>\n",
       "      <td>1508.0</td>\n",
       "      <td>128.0</td>\n",
       "      <td>360.0</td>\n",
       "      <td>1.0</td>\n",
       "      <td>Rural</td>\n",
       "      <td>N</td>\n",
       "    </tr>\n",
       "    <tr>\n",
       "      <th>2</th>\n",
       "      <td>LP001005</td>\n",
       "      <td>Male</td>\n",
       "      <td>Yes</td>\n",
       "      <td>0</td>\n",
       "      <td>Graduate</td>\n",
       "      <td>Yes</td>\n",
       "      <td>3000</td>\n",
       "      <td>0.0</td>\n",
       "      <td>66.0</td>\n",
       "      <td>360.0</td>\n",
       "      <td>1.0</td>\n",
       "      <td>Urban</td>\n",
       "      <td>Y</td>\n",
       "    </tr>\n",
       "    <tr>\n",
       "      <th>3</th>\n",
       "      <td>LP001006</td>\n",
       "      <td>Male</td>\n",
       "      <td>Yes</td>\n",
       "      <td>0</td>\n",
       "      <td>Not Graduate</td>\n",
       "      <td>No</td>\n",
       "      <td>2583</td>\n",
       "      <td>2358.0</td>\n",
       "      <td>120.0</td>\n",
       "      <td>360.0</td>\n",
       "      <td>1.0</td>\n",
       "      <td>Urban</td>\n",
       "      <td>Y</td>\n",
       "    </tr>\n",
       "    <tr>\n",
       "      <th>4</th>\n",
       "      <td>LP001008</td>\n",
       "      <td>Male</td>\n",
       "      <td>No</td>\n",
       "      <td>0</td>\n",
       "      <td>Graduate</td>\n",
       "      <td>No</td>\n",
       "      <td>6000</td>\n",
       "      <td>0.0</td>\n",
       "      <td>141.0</td>\n",
       "      <td>360.0</td>\n",
       "      <td>1.0</td>\n",
       "      <td>Urban</td>\n",
       "      <td>Y</td>\n",
       "    </tr>\n",
       "  </tbody>\n",
       "</table>\n",
       "</div>"
      ],
      "text/plain": [
       "    Loan_ID Gender Married Dependents     Education Self_Employed  \\\n",
       "0  LP001002   Male      No          0      Graduate            No   \n",
       "1  LP001003   Male     Yes          1      Graduate            No   \n",
       "2  LP001005   Male     Yes          0      Graduate           Yes   \n",
       "3  LP001006   Male     Yes          0  Not Graduate            No   \n",
       "4  LP001008   Male      No          0      Graduate            No   \n",
       "\n",
       "   ApplicantIncome  CoapplicantIncome  LoanAmount  Loan_Amount_Term  \\\n",
       "0             5849                0.0         NaN             360.0   \n",
       "1             4583             1508.0       128.0             360.0   \n",
       "2             3000                0.0        66.0             360.0   \n",
       "3             2583             2358.0       120.0             360.0   \n",
       "4             6000                0.0       141.0             360.0   \n",
       "\n",
       "   Credit_History Property_Area Loan_Status  \n",
       "0             1.0         Urban           Y  \n",
       "1             1.0         Rural           N  \n",
       "2             1.0         Urban           Y  \n",
       "3             1.0         Urban           Y  \n",
       "4             1.0         Urban           Y  "
      ]
     },
     "metadata": {},
     "output_type": "display_data"
    },
    {
     "name": "stdout",
     "output_type": "stream",
     "text": [
      "\n",
      "General information about the dataset:\n",
      "<class 'pandas.core.frame.DataFrame'>\n",
      "RangeIndex: 614 entries, 0 to 613\n",
      "Data columns (total 13 columns):\n",
      " #   Column             Non-Null Count  Dtype  \n",
      "---  ------             --------------  -----  \n",
      " 0   Loan_ID            614 non-null    object \n",
      " 1   Gender             601 non-null    object \n",
      " 2   Married            611 non-null    object \n",
      " 3   Dependents         599 non-null    object \n",
      " 4   Education          614 non-null    object \n",
      " 5   Self_Employed      582 non-null    object \n",
      " 6   ApplicantIncome    614 non-null    int64  \n",
      " 7   CoapplicantIncome  614 non-null    float64\n",
      " 8   LoanAmount         592 non-null    float64\n",
      " 9   Loan_Amount_Term   600 non-null    float64\n",
      " 10  Credit_History     564 non-null    float64\n",
      " 11  Property_Area      614 non-null    object \n",
      " 12  Loan_Status        614 non-null    object \n",
      "dtypes: float64(4), int64(1), object(8)\n",
      "memory usage: 62.5+ KB\n"
     ]
    },
    {
     "data": {
      "text/plain": [
       "None"
      ]
     },
     "metadata": {},
     "output_type": "display_data"
    },
    {
     "name": "stdout",
     "output_type": "stream",
     "text": [
      "\n",
      "Missing values in the dataset:\n"
     ]
    },
    {
     "data": {
      "text/plain": [
       "Loan_ID               0\n",
       "Gender               13\n",
       "Married               3\n",
       "Dependents           15\n",
       "Education             0\n",
       "Self_Employed        32\n",
       "ApplicantIncome       0\n",
       "CoapplicantIncome     0\n",
       "LoanAmount           22\n",
       "Loan_Amount_Term     14\n",
       "Credit_History       50\n",
       "Property_Area         0\n",
       "Loan_Status           0\n",
       "dtype: int64"
      ]
     },
     "metadata": {},
     "output_type": "display_data"
    },
    {
     "name": "stdout",
     "output_type": "stream",
     "text": [
      "\n",
      "Basic statistics of the dataset:\n"
     ]
    },
    {
     "data": {
      "text/html": [
       "<div>\n",
       "<style scoped>\n",
       "    .dataframe tbody tr th:only-of-type {\n",
       "        vertical-align: middle;\n",
       "    }\n",
       "\n",
       "    .dataframe tbody tr th {\n",
       "        vertical-align: top;\n",
       "    }\n",
       "\n",
       "    .dataframe thead th {\n",
       "        text-align: right;\n",
       "    }\n",
       "</style>\n",
       "<table border=\"1\" class=\"dataframe\">\n",
       "  <thead>\n",
       "    <tr style=\"text-align: right;\">\n",
       "      <th></th>\n",
       "      <th>ApplicantIncome</th>\n",
       "      <th>CoapplicantIncome</th>\n",
       "      <th>LoanAmount</th>\n",
       "      <th>Loan_Amount_Term</th>\n",
       "      <th>Credit_History</th>\n",
       "    </tr>\n",
       "  </thead>\n",
       "  <tbody>\n",
       "    <tr>\n",
       "      <th>count</th>\n",
       "      <td>614.000000</td>\n",
       "      <td>614.000000</td>\n",
       "      <td>592.000000</td>\n",
       "      <td>600.00000</td>\n",
       "      <td>564.000000</td>\n",
       "    </tr>\n",
       "    <tr>\n",
       "      <th>mean</th>\n",
       "      <td>5403.459283</td>\n",
       "      <td>1621.245798</td>\n",
       "      <td>146.412162</td>\n",
       "      <td>342.00000</td>\n",
       "      <td>0.842199</td>\n",
       "    </tr>\n",
       "    <tr>\n",
       "      <th>std</th>\n",
       "      <td>6109.041673</td>\n",
       "      <td>2926.248369</td>\n",
       "      <td>85.587325</td>\n",
       "      <td>65.12041</td>\n",
       "      <td>0.364878</td>\n",
       "    </tr>\n",
       "    <tr>\n",
       "      <th>min</th>\n",
       "      <td>150.000000</td>\n",
       "      <td>0.000000</td>\n",
       "      <td>9.000000</td>\n",
       "      <td>12.00000</td>\n",
       "      <td>0.000000</td>\n",
       "    </tr>\n",
       "    <tr>\n",
       "      <th>25%</th>\n",
       "      <td>2877.500000</td>\n",
       "      <td>0.000000</td>\n",
       "      <td>100.000000</td>\n",
       "      <td>360.00000</td>\n",
       "      <td>1.000000</td>\n",
       "    </tr>\n",
       "    <tr>\n",
       "      <th>50%</th>\n",
       "      <td>3812.500000</td>\n",
       "      <td>1188.500000</td>\n",
       "      <td>128.000000</td>\n",
       "      <td>360.00000</td>\n",
       "      <td>1.000000</td>\n",
       "    </tr>\n",
       "    <tr>\n",
       "      <th>75%</th>\n",
       "      <td>5795.000000</td>\n",
       "      <td>2297.250000</td>\n",
       "      <td>168.000000</td>\n",
       "      <td>360.00000</td>\n",
       "      <td>1.000000</td>\n",
       "    </tr>\n",
       "    <tr>\n",
       "      <th>max</th>\n",
       "      <td>81000.000000</td>\n",
       "      <td>41667.000000</td>\n",
       "      <td>700.000000</td>\n",
       "      <td>480.00000</td>\n",
       "      <td>1.000000</td>\n",
       "    </tr>\n",
       "  </tbody>\n",
       "</table>\n",
       "</div>"
      ],
      "text/plain": [
       "       ApplicantIncome  CoapplicantIncome  LoanAmount  Loan_Amount_Term  \\\n",
       "count       614.000000         614.000000  592.000000         600.00000   \n",
       "mean       5403.459283        1621.245798  146.412162         342.00000   \n",
       "std        6109.041673        2926.248369   85.587325          65.12041   \n",
       "min         150.000000           0.000000    9.000000          12.00000   \n",
       "25%        2877.500000           0.000000  100.000000         360.00000   \n",
       "50%        3812.500000        1188.500000  128.000000         360.00000   \n",
       "75%        5795.000000        2297.250000  168.000000         360.00000   \n",
       "max       81000.000000       41667.000000  700.000000         480.00000   \n",
       "\n",
       "       Credit_History  \n",
       "count      564.000000  \n",
       "mean         0.842199  \n",
       "std          0.364878  \n",
       "min          0.000000  \n",
       "25%          1.000000  \n",
       "50%          1.000000  \n",
       "75%          1.000000  \n",
       "max          1.000000  "
      ]
     },
     "metadata": {},
     "output_type": "display_data"
    },
    {
     "name": "stdout",
     "output_type": "stream",
     "text": [
      "\n",
      "Values in the 'Credit_History' column:\n"
     ]
    },
    {
     "data": {
      "text/plain": [
       "array([ 1.,  1.,  1.,  1.,  1.,  1.,  1.,  0.,  1.,  1.,  1.,  1.,  1.,\n",
       "        1.,  1.,  1., nan,  0.,  1.,  1.,  0.,  1.,  0.,  0., nan,  1.,\n",
       "        1.,  1.,  1.,  1., nan,  1.,  1.,  1.,  1.,  1.,  0.,  1.,  1.,\n",
       "        1.,  1.,  1., nan,  1.,  1.,  1.,  1.,  1.,  0.,  1.,  1.,  1.,\n",
       "        1.,  1.,  0.,  1.,  1.,  1.,  1.,  1.,  1.,  1.,  0.,  0.,  0.,\n",
       "        1.,  0.,  1.,  1.,  0.,  1.,  1.,  1.,  0.,  1.,  1.,  1.,  1.,\n",
       "        0., nan,  1.,  1.,  1., nan,  1.,  1., nan,  1.,  1.,  1.,  1.,\n",
       "        1.,  1.,  1.,  1., nan,  1.,  1.,  1.,  1.,  1.,  1.,  1.,  1.,\n",
       "        1.,  1.,  1.,  1.,  0.,  1.,  1.,  1.,  0.,  1.,  1.,  1.,  1.,\n",
       "       nan,  1.,  1.,  1.,  1.,  0.,  1.,  1., nan,  1.,  1.,  0., nan,\n",
       "       nan,  1.,  1.,  1.,  1.,  1.,  1.,  1.,  0.,  1.,  1.,  1.,  1.,\n",
       "        1.,  1.,  1.,  1.,  1.,  1.,  1.,  0.,  1.,  1.,  1.,  1.,  0.,\n",
       "       nan,  1.,  1.,  1.,  1.,  1.,  0.,  1.,  1.,  1.,  1.,  1.,  0.,\n",
       "        1.,  1.,  1.,  1.,  1.,  1.,  1.,  1.,  0.,  1.,  0.,  0., nan,\n",
       "        1.,  1.,  1.,  1.,  0., nan,  1.,  1.,  1.,  1.,  1.,  1.,  1.,\n",
       "        1.,  1.,  1., nan,  1.,  1.,  0.,  1.,  1.,  1.,  1.,  1.,  1.,\n",
       "        1.,  1.,  1.,  0.,  1.,  1.,  1.,  1.,  1.,  1.,  0., nan,  0.,\n",
       "        1.,  1.,  1.,  1.,  1.,  1.,  1.,  1.,  1.,  1.,  1.,  1.,  1.,\n",
       "        1.,  1., nan, nan,  1.,  1.,  1.,  1.,  1.,  1.,  1.,  1.,  1.,\n",
       "        1.,  1.,  1.,  0.,  1.,  1.,  1.,  0.,  1.,  0.,  1.,  1., nan,\n",
       "       nan,  1.,  1.,  1.,  1.,  1.,  1.,  0.,  1.,  1.,  1.,  1.,  1.,\n",
       "        1.,  1.,  1.,  1.,  1.,  1., nan,  0.,  1.,  1.,  1.,  1.,  1.,\n",
       "        1.,  1.,  1.,  1.,  1.,  0.,  1.,  0.,  1.,  1.,  1.,  1.,  1.,\n",
       "        1.,  0.,  1.,  1.,  1.,  1.,  1.,  1.,  0.,  1., nan,  1.,  1.,\n",
       "        1., nan,  1.,  1.,  1., nan, nan,  1.,  1.,  1.,  1., nan,  1.,\n",
       "        0.,  0.,  1.,  1.,  1.,  1.,  1.,  1.,  1.,  1.,  1.,  1.,  1.,\n",
       "        0.,  1.,  1.,  1.,  1.,  1.,  1.,  1.,  0.,  1., nan,  1.,  1.,\n",
       "        1.,  1.,  0.,  1.,  1.,  1.,  1.,  0.,  1.,  1.,  1.,  1., nan,\n",
       "        1.,  1.,  1.,  0.,  1.,  1.,  1.,  1.,  1.,  0.,  1.,  1.,  1.,\n",
       "       nan,  1.,  1.,  1.,  1.,  1.,  1.,  1.,  1.,  1.,  0.,  1.,  1.,\n",
       "        1.,  1., nan,  1.,  1., nan,  0.,  1.,  1.,  0.,  0.,  1.,  1.,\n",
       "        1.,  1.,  1.,  1.,  1.,  0.,  0.,  1., nan,  0.,  1.,  0.,  1.,\n",
       "        1.,  1.,  1.,  1.,  1.,  0.,  1.,  0.,  1.,  1.,  1.,  1.,  1.,\n",
       "        1.,  1.,  0.,  1.,  1.,  1.,  1.,  1.,  1.,  0.,  1.,  1.,  1.,\n",
       "        1.,  1., nan,  1.,  1.,  1.,  0., nan,  0., nan,  0.,  0.,  1.,\n",
       "        1.,  1.,  1.,  1.,  1., nan,  1.,  1.,  1.,  0.,  1.,  0.,  1.,\n",
       "        1.,  1.,  1.,  0.,  1., nan,  1.,  1.,  1.,  0.,  1.,  1.,  1.,\n",
       "        1.,  1.,  1.,  1.,  1.,  0.,  1.,  1.,  1., nan, nan,  1.,  1.,\n",
       "        0.,  1.,  1., nan,  1.,  0.,  1.,  1.,  1., nan,  1.,  1., nan,\n",
       "        1.,  1.,  1.,  1.,  1.,  1.,  1.,  1.,  1.,  1.,  0.,  1.,  1.,\n",
       "        1.,  1.,  1.,  1.,  1.,  1.,  1.,  0.,  1.,  1., nan,  1.,  0.,\n",
       "       nan,  1.,  1.,  1.,  1.,  1.,  1.,  1.,  0.,  1.,  1., nan,  1.,\n",
       "        1.,  1.,  0.,  1.,  0.,  1.,  1.,  0.,  0.,  1., nan,  1.,  1.,\n",
       "        1.,  1.,  1.,  1.,  1.,  0., nan,  1.,  0.,  1.,  0.,  1.,  0.,\n",
       "        1.,  1.,  1.,  1.,  0.,  1.,  1.,  1.,  1.,  1.,  1., nan,  0.,\n",
       "        1.,  1.,  1.,  1.,  0.,  1.,  1.,  1.,  1.,  1.,  1.,  1.,  0.,\n",
       "        1.,  1., nan,  1.,  1.,  1.,  1.,  1.,  1.,  1.,  1.,  1.,  1.,\n",
       "        1.,  1.,  0.])"
      ]
     },
     "metadata": {},
     "output_type": "display_data"
    },
    {
     "name": "stdout",
     "output_type": "stream",
     "text": [
      "\n",
      "Shape of the dataset:\n"
     ]
    },
    {
     "data": {
      "text/plain": [
       "(614, 13)"
      ]
     },
     "metadata": {},
     "output_type": "display_data"
    }
   ],
   "source": [
    "# Display the first few rows of the dataset\n",
    "print(\"First few rows of the dataset:\")\n",
    "display(df.head())\n",
    "\n",
    "# Display general information about the dataset\n",
    "print(\"\\nGeneral information about the dataset:\")\n",
    "display(df.info())\n",
    "\n",
    "# Check for missing values\n",
    "print(\"\\nMissing values in the dataset:\")\n",
    "display(df.isnull().sum())\n",
    "\n",
    "# Display basic statistics of the dataset\n",
    "print(\"\\nBasic statistics of the dataset:\")\n",
    "display(df.describe())\n",
    "\n",
    "# Explore specific columns\n",
    "print(\"\\nValues in the 'Credit_History' column:\")\n",
    "display(df['Credit_History'].values)\n",
    "\n",
    "# Check the shape of the dataset\n",
    "print(\"\\nShape of the dataset:\")\n",
    "display(df.shape)\n"
   ]
  },
  {
   "cell_type": "markdown",
   "metadata": {
    "id": "cOHpMDUga7oS"
   },
   "source": [
    "### Data PreProcessing/Cleaning\n",
    "- **Objective:** Prepare the dataset for the Loan Eligibility Calculator by addressing missing values in numerical and categorical columns.\n",
    "- **Actions:**\n",
    "  - Handle numerical missing data by filling with mean values.\n",
    "  - Handle categorical missing data by filling with mode values.\n",
    "  - Display the updated dataset after handling missing values."
   ]
  },
  {
   "cell_type": "code",
   "execution_count": 30,
   "metadata": {
    "colab": {
     "base_uri": "https://localhost:8080/",
     "height": 241
    },
    "id": "Npj04nsDMG_S",
    "outputId": "5723d9ab-5853-4cf1-9793-c674e6bc1aaa"
   },
   "outputs": [
    {
     "name": "stdout",
     "output_type": "stream",
     "text": [
      "\n",
      "Dataset after handling missing values:\n"
     ]
    },
    {
     "data": {
      "text/html": [
       "<div>\n",
       "<style scoped>\n",
       "    .dataframe tbody tr th:only-of-type {\n",
       "        vertical-align: middle;\n",
       "    }\n",
       "\n",
       "    .dataframe tbody tr th {\n",
       "        vertical-align: top;\n",
       "    }\n",
       "\n",
       "    .dataframe thead th {\n",
       "        text-align: right;\n",
       "    }\n",
       "</style>\n",
       "<table border=\"1\" class=\"dataframe\">\n",
       "  <thead>\n",
       "    <tr style=\"text-align: right;\">\n",
       "      <th></th>\n",
       "      <th>Loan_ID</th>\n",
       "      <th>Gender</th>\n",
       "      <th>Married</th>\n",
       "      <th>Dependents</th>\n",
       "      <th>Education</th>\n",
       "      <th>Self_Employed</th>\n",
       "      <th>ApplicantIncome</th>\n",
       "      <th>CoapplicantIncome</th>\n",
       "      <th>LoanAmount</th>\n",
       "      <th>Loan_Amount_Term</th>\n",
       "      <th>Credit_History</th>\n",
       "      <th>Property_Area</th>\n",
       "      <th>Loan_Status</th>\n",
       "    </tr>\n",
       "  </thead>\n",
       "  <tbody>\n",
       "    <tr>\n",
       "      <th>0</th>\n",
       "      <td>LP001002</td>\n",
       "      <td>Male</td>\n",
       "      <td>No</td>\n",
       "      <td>0</td>\n",
       "      <td>Graduate</td>\n",
       "      <td>No</td>\n",
       "      <td>5849</td>\n",
       "      <td>0.0</td>\n",
       "      <td>146.412162</td>\n",
       "      <td>360.0</td>\n",
       "      <td>1.0</td>\n",
       "      <td>Urban</td>\n",
       "      <td>Y</td>\n",
       "    </tr>\n",
       "    <tr>\n",
       "      <th>1</th>\n",
       "      <td>LP001003</td>\n",
       "      <td>Male</td>\n",
       "      <td>Yes</td>\n",
       "      <td>1</td>\n",
       "      <td>Graduate</td>\n",
       "      <td>No</td>\n",
       "      <td>4583</td>\n",
       "      <td>1508.0</td>\n",
       "      <td>128.000000</td>\n",
       "      <td>360.0</td>\n",
       "      <td>1.0</td>\n",
       "      <td>Rural</td>\n",
       "      <td>N</td>\n",
       "    </tr>\n",
       "    <tr>\n",
       "      <th>2</th>\n",
       "      <td>LP001005</td>\n",
       "      <td>Male</td>\n",
       "      <td>Yes</td>\n",
       "      <td>0</td>\n",
       "      <td>Graduate</td>\n",
       "      <td>Yes</td>\n",
       "      <td>3000</td>\n",
       "      <td>0.0</td>\n",
       "      <td>66.000000</td>\n",
       "      <td>360.0</td>\n",
       "      <td>1.0</td>\n",
       "      <td>Urban</td>\n",
       "      <td>Y</td>\n",
       "    </tr>\n",
       "    <tr>\n",
       "      <th>3</th>\n",
       "      <td>LP001006</td>\n",
       "      <td>Male</td>\n",
       "      <td>Yes</td>\n",
       "      <td>0</td>\n",
       "      <td>Not Graduate</td>\n",
       "      <td>No</td>\n",
       "      <td>2583</td>\n",
       "      <td>2358.0</td>\n",
       "      <td>120.000000</td>\n",
       "      <td>360.0</td>\n",
       "      <td>1.0</td>\n",
       "      <td>Urban</td>\n",
       "      <td>Y</td>\n",
       "    </tr>\n",
       "    <tr>\n",
       "      <th>4</th>\n",
       "      <td>LP001008</td>\n",
       "      <td>Male</td>\n",
       "      <td>No</td>\n",
       "      <td>0</td>\n",
       "      <td>Graduate</td>\n",
       "      <td>No</td>\n",
       "      <td>6000</td>\n",
       "      <td>0.0</td>\n",
       "      <td>141.000000</td>\n",
       "      <td>360.0</td>\n",
       "      <td>1.0</td>\n",
       "      <td>Urban</td>\n",
       "      <td>Y</td>\n",
       "    </tr>\n",
       "  </tbody>\n",
       "</table>\n",
       "</div>"
      ],
      "text/plain": [
       "    Loan_ID Gender Married Dependents     Education Self_Employed  \\\n",
       "0  LP001002   Male      No          0      Graduate            No   \n",
       "1  LP001003   Male     Yes          1      Graduate            No   \n",
       "2  LP001005   Male     Yes          0      Graduate           Yes   \n",
       "3  LP001006   Male     Yes          0  Not Graduate            No   \n",
       "4  LP001008   Male      No          0      Graduate            No   \n",
       "\n",
       "   ApplicantIncome  CoapplicantIncome  LoanAmount  Loan_Amount_Term  \\\n",
       "0             5849                0.0  146.412162             360.0   \n",
       "1             4583             1508.0  128.000000             360.0   \n",
       "2             3000                0.0   66.000000             360.0   \n",
       "3             2583             2358.0  120.000000             360.0   \n",
       "4             6000                0.0  141.000000             360.0   \n",
       "\n",
       "   Credit_History Property_Area Loan_Status  \n",
       "0             1.0         Urban           Y  \n",
       "1             1.0         Rural           N  \n",
       "2             1.0         Urban           Y  \n",
       "3             1.0         Urban           Y  \n",
       "4             1.0         Urban           Y  "
      ]
     },
     "metadata": {},
     "output_type": "display_data"
    }
   ],
   "source": [
    "# Data Preprocessing\n",
    "\n",
    "# Handle numerical missing data\n",
    "df['LoanAmount'] = df['LoanAmount'].fillna(df['LoanAmount'].mean())\n",
    "df['Loan_Amount_Term'] = df['Loan_Amount_Term'].fillna(df['Loan_Amount_Term'].mean())\n",
    "df['Credit_History'] = df['Credit_History'].fillna(df['Credit_History'].mean())\n",
    "\n",
    "# Handle categorical missing data\n",
    "df['Gender'] = df['Gender'].fillna(df['Gender'].mode()[0])\n",
    "df['Married'] = df['Married'].fillna(df['Married'].mode()[0])\n",
    "df['Dependents'] = df['Dependents'].fillna(df['Dependents'].mode()[0])\n",
    "df['Self_Employed'] = df['Self_Employed'].fillna(df['Self_Employed'].mode()[0])\n",
    "\n",
    "# Display the updated dataset after handling missing values\n",
    "print(\"\\nDataset after handling missing values:\")\n",
    "display(df.head())\n"
   ]
  },
  {
   "cell_type": "markdown",
   "metadata": {
    "id": "O7H9wurJbWPG"
   },
   "source": [
    "### Data Exploration and Feature Engineering\n",
    "- **Objective:** Gain insights into the dataset's characteristics for building the Loan Eligibility Calculator. Enhance the Loan Eligibility Calculator model by creating new features, handling categorical variables, and transforming data.\n",
    "- **Actions:**\n",
    "  - Plot distributions and correlations.\n",
    "  - Transform data to identify patterns and features relevant to loan eligibility.\n",
    "  - Create a new feature 'Total_income.'\n",
    "  - Apply log transformations to numerical features.\n",
    "  - Drop unnecessary columns."
   ]
  },
  {
   "cell_type": "code",
   "execution_count": 31,
   "metadata": {
    "colab": {
     "base_uri": "https://localhost:8080/",
     "height": 442
    },
    "id": "WdQ52AwNMG_S",
    "outputId": "4852d23b-4340-4358-c920-18cbcb20c682"
   },
   "outputs": [
    {
     "name": "stdout",
     "output_type": "stream",
     "text": [
      "\n",
      "Shape of the dataset:\n"
     ]
    },
    {
     "data": {
      "text/plain": [
       "(614, 13)"
      ]
     },
     "metadata": {},
     "output_type": "display_data"
    }
   ],
   "source": [
    "# Display the shape of the dataset\n",
    "print(\"\\nShape of the dataset:\")\n",
    "display(df.shape)\n",
    "\n",
    "\n",
    "# Data Transformation\n",
    "\n",
    "# Create a new feature 'Total_income'\n",
    "df['Total_income'] = df['ApplicantIncome'] + df['CoapplicantIncome']\n",
    "\n"
   ]
  },
  {
   "cell_type": "code",
   "execution_count": 32,
   "metadata": {
    "colab": {
     "base_uri": "https://localhost:8080/",
     "height": 614
    },
    "id": "EsHAqp-cVgA1",
    "outputId": "16aa30a5-9405-488f-f5be-30ddb5b1b2b3"
   },
   "outputs": [
    {
     "name": "stderr",
     "output_type": "stream",
     "text": [
      "C:\\Users\\varun\\anaconda3\\Lib\\site-packages\\pandas\\core\\arraylike.py:402: RuntimeWarning: divide by zero encountered in log\n",
      "  result = getattr(ufunc, method)(*inputs, **kwargs)\n"
     ]
    },
    {
     "data": {
      "image/png": "[encoded data removed]",
      "text/plain": [
       "<Figure size 2000x800 with 10 Axes>"
      ]
     },
     "metadata": {},
     "output_type": "display_data"
    }
   ],
   "source": [
    "import seaborn as sns\n",
    "import matplotlib.pyplot as plt\n",
    "\n",
    "# Set up the subplots\n",
    "fig, axes = plt.subplots(nrows=2, ncols=5, figsize=(20, 8))\n",
    "\n",
    "# Numerical columns\n",
    "numerical_columns = ['ApplicantIncome', 'CoapplicantIncome', 'LoanAmount', 'Loan_Amount_Term', 'Total_income']\n",
    "\n",
    "# Iterate through numerical columns\n",
    "for i, column in enumerate(numerical_columns):\n",
    "    # Display distribution before np.log transformation\n",
    "    sns.histplot(df[column], ax=axes[0, i], kde=True)\n",
    "    axes[0, i].set_title(f'{column} (Before Log)')\n",
    "\n",
    "    # Display distribution after np.log transformation\n",
    "    sns.histplot(np.log(df[column]), ax=axes[1, i], kde=True)\n",
    "    axes[1, i].set_title(f'{column} (After Log)')\n",
    "\n",
    "# Adjust layout\n",
    "plt.tight_layout()\n",
    "\n",
    "# Show the plots\n",
    "plt.show()\n"
   ]
  },
  {
   "cell_type": "code",
   "execution_count": 33,
   "metadata": {
    "colab": {
     "base_uri": "https://localhost:8080/",
     "height": 536
    },
    "id": "-TswXh2fVgA1",
    "outputId": "f22ded85-9054-4952-8501-19f1869d79dd"
   },
   "outputs": [
    {
     "name": "stdout",
     "output_type": "stream",
     "text": [
      "\n",
      "Dataset after data transformation:\n"
     ]
    },
    {
     "name": "stderr",
     "output_type": "stream",
     "text": [
      "C:\\Users\\varun\\anaconda3\\Lib\\site-packages\\pandas\\core\\arraylike.py:402: RuntimeWarning: divide by zero encountered in log\n",
      "  result = getattr(ufunc, method)(*inputs, **kwargs)\n"
     ]
    },
    {
     "data": {
      "text/html": [
       "<div>\n",
       "<style scoped>\n",
       "    .dataframe tbody tr th:only-of-type {\n",
       "        vertical-align: middle;\n",
       "    }\n",
       "\n",
       "    .dataframe tbody tr th {\n",
       "        vertical-align: top;\n",
       "    }\n",
       "\n",
       "    .dataframe thead th {\n",
       "        text-align: right;\n",
       "    }\n",
       "</style>\n",
       "<table border=\"1\" class=\"dataframe\">\n",
       "  <thead>\n",
       "    <tr style=\"text-align: right;\">\n",
       "      <th></th>\n",
       "      <th>Loan_ID</th>\n",
       "      <th>Gender</th>\n",
       "      <th>Married</th>\n",
       "      <th>Dependents</th>\n",
       "      <th>Education</th>\n",
       "      <th>Self_Employed</th>\n",
       "      <th>ApplicantIncome</th>\n",
       "      <th>CoapplicantIncome</th>\n",
       "      <th>LoanAmount</th>\n",
       "      <th>Loan_Amount_Term</th>\n",
       "      <th>Credit_History</th>\n",
       "      <th>Property_Area</th>\n",
       "      <th>Loan_Status</th>\n",
       "      <th>Total_income</th>\n",
       "      <th>ApplicantIncomeLog</th>\n",
       "      <th>CoapplicantIncomeLog</th>\n",
       "      <th>LoanAmountLog</th>\n",
       "      <th>Loan_Amount_Term_Log</th>\n",
       "      <th>Total_Income_Log</th>\n",
       "    </tr>\n",
       "  </thead>\n",
       "  <tbody>\n",
       "    <tr>\n",
       "      <th>0</th>\n",
       "      <td>LP001002</td>\n",
       "      <td>Male</td>\n",
       "      <td>No</td>\n",
       "      <td>0</td>\n",
       "      <td>Graduate</td>\n",
       "      <td>No</td>\n",
       "      <td>5849</td>\n",
       "      <td>0.0</td>\n",
       "      <td>146.412162</td>\n",
       "      <td>360.0</td>\n",
       "      <td>1.0</td>\n",
       "      <td>Urban</td>\n",
       "      <td>Y</td>\n",
       "      <td>5849.0</td>\n",
       "      <td>8.674026</td>\n",
       "      <td>-inf</td>\n",
       "      <td>4.986426</td>\n",
       "      <td>5.886104</td>\n",
       "      <td>8.674026</td>\n",
       "    </tr>\n",
       "    <tr>\n",
       "      <th>1</th>\n",
       "      <td>LP001003</td>\n",
       "      <td>Male</td>\n",
       "      <td>Yes</td>\n",
       "      <td>1</td>\n",
       "      <td>Graduate</td>\n",
       "      <td>No</td>\n",
       "      <td>4583</td>\n",
       "      <td>1508.0</td>\n",
       "      <td>128.000000</td>\n",
       "      <td>360.0</td>\n",
       "      <td>1.0</td>\n",
       "      <td>Rural</td>\n",
       "      <td>N</td>\n",
       "      <td>6091.0</td>\n",
       "      <td>8.430109</td>\n",
       "      <td>7.318540</td>\n",
       "      <td>4.852030</td>\n",
       "      <td>5.886104</td>\n",
       "      <td>8.714568</td>\n",
       "    </tr>\n",
       "    <tr>\n",
       "      <th>2</th>\n",
       "      <td>LP001005</td>\n",
       "      <td>Male</td>\n",
       "      <td>Yes</td>\n",
       "      <td>0</td>\n",
       "      <td>Graduate</td>\n",
       "      <td>Yes</td>\n",
       "      <td>3000</td>\n",
       "      <td>0.0</td>\n",
       "      <td>66.000000</td>\n",
       "      <td>360.0</td>\n",
       "      <td>1.0</td>\n",
       "      <td>Urban</td>\n",
       "      <td>Y</td>\n",
       "      <td>3000.0</td>\n",
       "      <td>8.006368</td>\n",
       "      <td>-inf</td>\n",
       "      <td>4.189655</td>\n",
       "      <td>5.886104</td>\n",
       "      <td>8.006368</td>\n",
       "    </tr>\n",
       "    <tr>\n",
       "      <th>3</th>\n",
       "      <td>LP001006</td>\n",
       "      <td>Male</td>\n",
       "      <td>Yes</td>\n",
       "      <td>0</td>\n",
       "      <td>Not Graduate</td>\n",
       "      <td>No</td>\n",
       "      <td>2583</td>\n",
       "      <td>2358.0</td>\n",
       "      <td>120.000000</td>\n",
       "      <td>360.0</td>\n",
       "      <td>1.0</td>\n",
       "      <td>Urban</td>\n",
       "      <td>Y</td>\n",
       "      <td>4941.0</td>\n",
       "      <td>7.856707</td>\n",
       "      <td>7.765569</td>\n",
       "      <td>4.787492</td>\n",
       "      <td>5.886104</td>\n",
       "      <td>8.505323</td>\n",
       "    </tr>\n",
       "    <tr>\n",
       "      <th>4</th>\n",
       "      <td>LP001008</td>\n",
       "      <td>Male</td>\n",
       "      <td>No</td>\n",
       "      <td>0</td>\n",
       "      <td>Graduate</td>\n",
       "      <td>No</td>\n",
       "      <td>6000</td>\n",
       "      <td>0.0</td>\n",
       "      <td>141.000000</td>\n",
       "      <td>360.0</td>\n",
       "      <td>1.0</td>\n",
       "      <td>Urban</td>\n",
       "      <td>Y</td>\n",
       "      <td>6000.0</td>\n",
       "      <td>8.699515</td>\n",
       "      <td>-inf</td>\n",
       "      <td>4.948760</td>\n",
       "      <td>5.886104</td>\n",
       "      <td>8.699515</td>\n",
       "    </tr>\n",
       "  </tbody>\n",
       "</table>\n",
       "</div>"
      ],
      "text/plain": [
       "    Loan_ID Gender Married Dependents     Education Self_Employed  \\\n",
       "0  LP001002   Male      No          0      Graduate            No   \n",
       "1  LP001003   Male     Yes          1      Graduate            No   \n",
       "2  LP001005   Male     Yes          0      Graduate           Yes   \n",
       "3  LP001006   Male     Yes          0  Not Graduate            No   \n",
       "4  LP001008   Male      No          0      Graduate            No   \n",
       "\n",
       "   ApplicantIncome  CoapplicantIncome  LoanAmount  Loan_Amount_Term  \\\n",
       "0             5849                0.0  146.412162             360.0   \n",
       "1             4583             1508.0  128.000000             360.0   \n",
       "2             3000                0.0   66.000000             360.0   \n",
       "3             2583             2358.0  120.000000             360.0   \n",
       "4             6000                0.0  141.000000             360.0   \n",
       "\n",
       "   Credit_History Property_Area Loan_Status  Total_income  ApplicantIncomeLog  \\\n",
       "0             1.0         Urban           Y        5849.0            8.674026   \n",
       "1             1.0         Rural           N        6091.0            8.430109   \n",
       "2             1.0         Urban           Y        3000.0            8.006368   \n",
       "3             1.0         Urban           Y        4941.0            7.856707   \n",
       "4             1.0         Urban           Y        6000.0            8.699515   \n",
       "\n",
       "   CoapplicantIncomeLog  LoanAmountLog  Loan_Amount_Term_Log  Total_Income_Log  \n",
       "0                  -inf       4.986426              5.886104          8.674026  \n",
       "1              7.318540       4.852030              5.886104          8.714568  \n",
       "2                  -inf       4.189655              5.886104          8.006368  \n",
       "3              7.765569       4.787492              5.886104          8.505323  \n",
       "4                  -inf       4.948760              5.886104          8.699515  "
      ]
     },
     "metadata": {},
     "output_type": "display_data"
    },
    {
     "name": "stdout",
     "output_type": "stream",
     "text": [
      "\n",
      "Dataset after dropping unnecessary columns:\n"
     ]
    },
    {
     "data": {
      "text/html": [
       "<div>\n",
       "<style scoped>\n",
       "    .dataframe tbody tr th:only-of-type {\n",
       "        vertical-align: middle;\n",
       "    }\n",
       "\n",
       "    .dataframe tbody tr th {\n",
       "        vertical-align: top;\n",
       "    }\n",
       "\n",
       "    .dataframe thead th {\n",
       "        text-align: right;\n",
       "    }\n",
       "</style>\n",
       "<table border=\"1\" class=\"dataframe\">\n",
       "  <thead>\n",
       "    <tr style=\"text-align: right;\">\n",
       "      <th></th>\n",
       "      <th>Gender</th>\n",
       "      <th>Married</th>\n",
       "      <th>Dependents</th>\n",
       "      <th>Education</th>\n",
       "      <th>Self_Employed</th>\n",
       "      <th>Credit_History</th>\n",
       "      <th>Property_Area</th>\n",
       "      <th>Loan_Status</th>\n",
       "      <th>ApplicantIncomeLog</th>\n",
       "      <th>LoanAmountLog</th>\n",
       "      <th>Loan_Amount_Term_Log</th>\n",
       "      <th>Total_Income_Log</th>\n",
       "    </tr>\n",
       "  </thead>\n",
       "  <tbody>\n",
       "    <tr>\n",
       "      <th>0</th>\n",
       "      <td>Male</td>\n",
       "      <td>No</td>\n",
       "      <td>0</td>\n",
       "      <td>Graduate</td>\n",
       "      <td>No</td>\n",
       "      <td>1.0</td>\n",
       "      <td>Urban</td>\n",
       "      <td>Y</td>\n",
       "      <td>8.674026</td>\n",
       "      <td>4.986426</td>\n",
       "      <td>5.886104</td>\n",
       "      <td>8.674026</td>\n",
       "    </tr>\n",
       "    <tr>\n",
       "      <th>1</th>\n",
       "      <td>Male</td>\n",
       "      <td>Yes</td>\n",
       "      <td>1</td>\n",
       "      <td>Graduate</td>\n",
       "      <td>No</td>\n",
       "      <td>1.0</td>\n",
       "      <td>Rural</td>\n",
       "      <td>N</td>\n",
       "      <td>8.430109</td>\n",
       "      <td>4.852030</td>\n",
       "      <td>5.886104</td>\n",
       "      <td>8.714568</td>\n",
       "    </tr>\n",
       "    <tr>\n",
       "      <th>2</th>\n",
       "      <td>Male</td>\n",
       "      <td>Yes</td>\n",
       "      <td>0</td>\n",
       "      <td>Graduate</td>\n",
       "      <td>Yes</td>\n",
       "      <td>1.0</td>\n",
       "      <td>Urban</td>\n",
       "      <td>Y</td>\n",
       "      <td>8.006368</td>\n",
       "      <td>4.189655</td>\n",
       "      <td>5.886104</td>\n",
       "      <td>8.006368</td>\n",
       "    </tr>\n",
       "    <tr>\n",
       "      <th>3</th>\n",
       "      <td>Male</td>\n",
       "      <td>Yes</td>\n",
       "      <td>0</td>\n",
       "      <td>Not Graduate</td>\n",
       "      <td>No</td>\n",
       "      <td>1.0</td>\n",
       "      <td>Urban</td>\n",
       "      <td>Y</td>\n",
       "      <td>7.856707</td>\n",
       "      <td>4.787492</td>\n",
       "      <td>5.886104</td>\n",
       "      <td>8.505323</td>\n",
       "    </tr>\n",
       "    <tr>\n",
       "      <th>4</th>\n",
       "      <td>Male</td>\n",
       "      <td>No</td>\n",
       "      <td>0</td>\n",
       "      <td>Graduate</td>\n",
       "      <td>No</td>\n",
       "      <td>1.0</td>\n",
       "      <td>Urban</td>\n",
       "      <td>Y</td>\n",
       "      <td>8.699515</td>\n",
       "      <td>4.948760</td>\n",
       "      <td>5.886104</td>\n",
       "      <td>8.699515</td>\n",
       "    </tr>\n",
       "  </tbody>\n",
       "</table>\n",
       "</div>"
      ],
      "text/plain": [
       "  Gender Married Dependents     Education Self_Employed  Credit_History  \\\n",
       "0   Male      No          0      Graduate            No             1.0   \n",
       "1   Male     Yes          1      Graduate            No             1.0   \n",
       "2   Male     Yes          0      Graduate           Yes             1.0   \n",
       "3   Male     Yes          0  Not Graduate            No             1.0   \n",
       "4   Male      No          0      Graduate            No             1.0   \n",
       "\n",
       "  Property_Area Loan_Status  ApplicantIncomeLog  LoanAmountLog  \\\n",
       "0         Urban           Y            8.674026       4.986426   \n",
       "1         Rural           N            8.430109       4.852030   \n",
       "2         Urban           Y            8.006368       4.189655   \n",
       "3         Urban           Y            7.856707       4.787492   \n",
       "4         Urban           Y            8.699515       4.948760   \n",
       "\n",
       "   Loan_Amount_Term_Log  Total_Income_Log  \n",
       "0              5.886104          8.674026  \n",
       "1              5.886104          8.714568  \n",
       "2              5.886104          8.006368  \n",
       "3              5.886104          8.505323  \n",
       "4              5.886104          8.699515  "
      ]
     },
     "metadata": {},
     "output_type": "display_data"
    }
   ],
   "source": [
    "\n",
    "# Log transformation of numerical features\n",
    "df['ApplicantIncomeLog'] = np.log(df['ApplicantIncome'])\n",
    "df['CoapplicantIncomeLog'] = np.log(df['CoapplicantIncome'])\n",
    "df['LoanAmountLog'] = np.log(df['LoanAmount'])\n",
    "df['Loan_Amount_Term_Log'] = np.log(df['Loan_Amount_Term'])\n",
    "df['Total_Income_Log'] = np.log(df['Total_income'])\n",
    "\n",
    "\n",
    "# Display the updated dataset after data transformation\n",
    "print(\"\\nDataset after data transformation:\")\n",
    "display(df.head())\n",
    "\n",
    "# Drop unnecessary columns\n",
    "cols_to_drop = ['ApplicantIncome', 'CoapplicantIncome', 'LoanAmount', 'Loan_Amount_Term', 'Total_income', 'Loan_ID', 'CoapplicantIncomeLog']\n",
    "df = df.drop(columns=cols_to_drop, axis=1)\n",
    "\n",
    "# Display the dataset after dropping unnecessary columns\n",
    "print(\"\\nDataset after dropping unnecessary columns:\")\n",
    "display(df.head())\n"
   ]
  },
  {
   "cell_type": "code",
   "execution_count": 34,
   "metadata": {
    "colab": {
     "base_uri": "https://localhost:8080/",
     "height": 191
    },
    "id": "vFD4h98gMG_T",
    "outputId": "f8abf02e-2436-407c-98fa-1a43cdef32d5"
   },
   "outputs": [
    {
     "name": "stdout",
     "output_type": "stream",
     "text": [
      "\n",
      "Loan_Status value counts:\n"
     ]
    },
    {
     "data": {
      "text/plain": [
       "Y    422\n",
       "N    192\n",
       "Name: Loan_Status, dtype: int64"
      ]
     },
     "metadata": {},
     "output_type": "display_data"
    },
    {
     "name": "stdout",
     "output_type": "stream",
     "text": [
      "\n",
      "Education value counts:\n"
     ]
    },
    {
     "data": {
      "text/plain": [
       "Graduate        480\n",
       "Not Graduate    134\n",
       "Name: Education, dtype: int64"
      ]
     },
     "metadata": {},
     "output_type": "display_data"
    }
   ],
   "source": [
    "# Explore Loan_Status and Education columns\n",
    "print(\"\\nLoan_Status value counts:\")\n",
    "display(df.Loan_Status.value_counts())\n",
    "\n",
    "print(\"\\nEducation value counts:\")\n",
    "display(df.Education.value_counts())\n"
   ]
  },
  {
   "cell_type": "markdown",
   "metadata": {
    "id": "8N68HdEycK7Y"
   },
   "source": [
    "### Data Encoding\n",
    "- **Objective:** Prepare the dataset for the Loan Eligibility Calculator model by converting categorical variables into dummy/indicator variables.\n",
    "- **Actions:**\n",
    "  - Use pandas `get_dummies` to encode categorical variables.\n",
    "  - Display the final dataset after encoding."
   ]
  },
  {
   "cell_type": "code",
   "execution_count": 35,
   "metadata": {
    "colab": {
     "base_uri": "https://localhost:8080/",
     "height": 241
    },
    "id": "0MQj1oRtMG_T",
    "outputId": "fffab146-9878-4dde-d825-28b575ed3637"
   },
   "outputs": [
    {
     "name": "stdout",
     "output_type": "stream",
     "text": [
      "\n",
      "Final dataset after encoding:\n"
     ]
    },
    {
     "data": {
      "text/html": [
       "<div>\n",
       "<style scoped>\n",
       "    .dataframe tbody tr th:only-of-type {\n",
       "        vertical-align: middle;\n",
       "    }\n",
       "\n",
       "    .dataframe tbody tr th {\n",
       "        vertical-align: top;\n",
       "    }\n",
       "\n",
       "    .dataframe thead th {\n",
       "        text-align: right;\n",
       "    }\n",
       "</style>\n",
       "<table border=\"1\" class=\"dataframe\">\n",
       "  <thead>\n",
       "    <tr style=\"text-align: right;\">\n",
       "      <th></th>\n",
       "      <th>Credit_History</th>\n",
       "      <th>Loan_Status</th>\n",
       "      <th>ApplicantIncomeLog</th>\n",
       "      <th>LoanAmountLog</th>\n",
       "      <th>Loan_Amount_Term_Log</th>\n",
       "      <th>Total_Income_Log</th>\n",
       "      <th>Male</th>\n",
       "      <th>Yes</th>\n",
       "      <th>1</th>\n",
       "      <th>2</th>\n",
       "      <th>3+</th>\n",
       "      <th>Not Graduate</th>\n",
       "      <th>Yes</th>\n",
       "      <th>Semiurban</th>\n",
       "      <th>Urban</th>\n",
       "    </tr>\n",
       "  </thead>\n",
       "  <tbody>\n",
       "    <tr>\n",
       "      <th>0</th>\n",
       "      <td>1.0</td>\n",
       "      <td>Y</td>\n",
       "      <td>8.674026</td>\n",
       "      <td>4.986426</td>\n",
       "      <td>5.886104</td>\n",
       "      <td>8.674026</td>\n",
       "      <td>1</td>\n",
       "      <td>0</td>\n",
       "      <td>0</td>\n",
       "      <td>0</td>\n",
       "      <td>0</td>\n",
       "      <td>0</td>\n",
       "      <td>0</td>\n",
       "      <td>0</td>\n",
       "      <td>1</td>\n",
       "    </tr>\n",
       "    <tr>\n",
       "      <th>1</th>\n",
       "      <td>1.0</td>\n",
       "      <td>N</td>\n",
       "      <td>8.430109</td>\n",
       "      <td>4.852030</td>\n",
       "      <td>5.886104</td>\n",
       "      <td>8.714568</td>\n",
       "      <td>1</td>\n",
       "      <td>1</td>\n",
       "      <td>1</td>\n",
       "      <td>0</td>\n",
       "      <td>0</td>\n",
       "      <td>0</td>\n",
       "      <td>0</td>\n",
       "      <td>0</td>\n",
       "      <td>0</td>\n",
       "    </tr>\n",
       "    <tr>\n",
       "      <th>2</th>\n",
       "      <td>1.0</td>\n",
       "      <td>Y</td>\n",
       "      <td>8.006368</td>\n",
       "      <td>4.189655</td>\n",
       "      <td>5.886104</td>\n",
       "      <td>8.006368</td>\n",
       "      <td>1</td>\n",
       "      <td>1</td>\n",
       "      <td>0</td>\n",
       "      <td>0</td>\n",
       "      <td>0</td>\n",
       "      <td>0</td>\n",
       "      <td>1</td>\n",
       "      <td>0</td>\n",
       "      <td>1</td>\n",
       "    </tr>\n",
       "    <tr>\n",
       "      <th>3</th>\n",
       "      <td>1.0</td>\n",
       "      <td>Y</td>\n",
       "      <td>7.856707</td>\n",
       "      <td>4.787492</td>\n",
       "      <td>5.886104</td>\n",
       "      <td>8.505323</td>\n",
       "      <td>1</td>\n",
       "      <td>1</td>\n",
       "      <td>0</td>\n",
       "      <td>0</td>\n",
       "      <td>0</td>\n",
       "      <td>1</td>\n",
       "      <td>0</td>\n",
       "      <td>0</td>\n",
       "      <td>1</td>\n",
       "    </tr>\n",
       "    <tr>\n",
       "      <th>4</th>\n",
       "      <td>1.0</td>\n",
       "      <td>Y</td>\n",
       "      <td>8.699515</td>\n",
       "      <td>4.948760</td>\n",
       "      <td>5.886104</td>\n",
       "      <td>8.699515</td>\n",
       "      <td>1</td>\n",
       "      <td>0</td>\n",
       "      <td>0</td>\n",
       "      <td>0</td>\n",
       "      <td>0</td>\n",
       "      <td>0</td>\n",
       "      <td>0</td>\n",
       "      <td>0</td>\n",
       "      <td>1</td>\n",
       "    </tr>\n",
       "  </tbody>\n",
       "</table>\n",
       "</div>"
      ],
      "text/plain": [
       "   Credit_History Loan_Status  ApplicantIncomeLog  LoanAmountLog  \\\n",
       "0             1.0           Y            8.674026       4.986426   \n",
       "1             1.0           N            8.430109       4.852030   \n",
       "2             1.0           Y            8.006368       4.189655   \n",
       "3             1.0           Y            7.856707       4.787492   \n",
       "4             1.0           Y            8.699515       4.948760   \n",
       "\n",
       "   Loan_Amount_Term_Log  Total_Income_Log  Male  Yes  1  2  3+  Not Graduate  \\\n",
       "0              5.886104          8.674026     1    0  0  0   0             0   \n",
       "1              5.886104          8.714568     1    1  1  0   0             0   \n",
       "2              5.886104          8.006368     1    1  0  0   0             0   \n",
       "3              5.886104          8.505323     1    1  0  0   0             1   \n",
       "4              5.886104          8.699515     1    0  0  0   0             0   \n",
       "\n",
       "   Yes  Semiurban  Urban  \n",
       "0    0          0      1  \n",
       "1    0          0      0  \n",
       "2    1          0      1  \n",
       "3    0          0      1  \n",
       "4    0          0      1  "
      ]
     },
     "metadata": {},
     "output_type": "display_data"
    }
   ],
   "source": [
    "# Data Encoding\n",
    "\n",
    "# Convert categorical variables into dummy/indicator variables\n",
    "dummies_gender = pd.get_dummies(df['Gender'], drop_first=True)\n",
    "dummies_married = pd.get_dummies(df['Married'], drop_first=True)\n",
    "dummies_dependents = pd.get_dummies(df['Dependents'], drop_first=True)\n",
    "dummies_education = pd.get_dummies(df['Education'], drop_first=True)\n",
    "dummies_self_employed = pd.get_dummies(df['Self_Employed'], drop_first=True)\n",
    "dummies_property_area = pd.get_dummies(df['Property_Area'], drop_first=True)\n",
    "\n",
    "# Concatenate dummy variables with the original dataset\n",
    "df = pd.concat([df, dummies_gender, dummies_married, dummies_dependents, dummies_education, dummies_self_employed, dummies_property_area], axis=1)\n",
    "\n",
    "# Drop the original categorical columns\n",
    "cols_to_drop = ['Gender', 'Married', 'Dependents', 'Education', 'Self_Employed', 'Property_Area']\n",
    "df = df.drop(columns=cols_to_drop, axis=1)\n",
    "\n",
    "# Display the final dataset after encoding\n",
    "print(\"\\nFinal dataset after encoding:\")\n",
    "display(df.head())\n"
   ]
  },
  {
   "cell_type": "markdown",
   "metadata": {
    "id": "-QwksUH7cShJ"
   },
   "source": [
    "### Load Test Dataset and Data Preprocessing for Test Dataset\n",
    "- **Objective:** Prepare the test dataset (`test.csv`) for the Loan Eligibility Calculator.\n",
    "- **Actions:**\n",
    "  - Load the test dataset.\n",
    "  - Fill missing values in the test dataset."
   ]
  },
  {
   "cell_type": "code",
   "execution_count": 36,
   "metadata": {
    "colab": {
     "base_uri": "https://localhost:8080/",
     "height": 310
    },
    "id": "6z1HbEWzMG_T",
    "outputId": "599b6fbb-81a7-4a48-d70a-d16fbe502c46"
   },
   "outputs": [
    {
     "name": "stderr",
     "output_type": "stream",
     "text": [
      "C:\\Users\\varun\\anaconda3\\Lib\\site-packages\\pandas\\core\\arraylike.py:402: RuntimeWarning: divide by zero encountered in log\n",
      "  result = getattr(ufunc, method)(*inputs, **kwargs)\n",
      "C:\\Users\\varun\\anaconda3\\Lib\\site-packages\\pandas\\core\\arraylike.py:402: RuntimeWarning: divide by zero encountered in log\n",
      "  result = getattr(ufunc, method)(*inputs, **kwargs)\n"
     ]
    },
    {
     "name": "stdout",
     "output_type": "stream",
     "text": [
      "\n",
      "Final test dataset:\n"
     ]
    },
    {
     "data": {
      "text/html": [
       "<div>\n",
       "<style scoped>\n",
       "    .dataframe tbody tr th:only-of-type {\n",
       "        vertical-align: middle;\n",
       "    }\n",
       "\n",
       "    .dataframe tbody tr th {\n",
       "        vertical-align: top;\n",
       "    }\n",
       "\n",
       "    .dataframe thead th {\n",
       "        text-align: right;\n",
       "    }\n",
       "</style>\n",
       "<table border=\"1\" class=\"dataframe\">\n",
       "  <thead>\n",
       "    <tr style=\"text-align: right;\">\n",
       "      <th></th>\n",
       "      <th>Credit_History</th>\n",
       "      <th>ApplicantIncomeLog</th>\n",
       "      <th>LoanAmountLog</th>\n",
       "      <th>Loan_Amount_Term_Log</th>\n",
       "      <th>Total_Income_Log</th>\n",
       "      <th>Male</th>\n",
       "      <th>Yes</th>\n",
       "      <th>1</th>\n",
       "      <th>2</th>\n",
       "      <th>3+</th>\n",
       "      <th>Not Graduate</th>\n",
       "      <th>Yes</th>\n",
       "      <th>Semiurban</th>\n",
       "      <th>Urban</th>\n",
       "    </tr>\n",
       "  </thead>\n",
       "  <tbody>\n",
       "    <tr>\n",
       "      <th>0</th>\n",
       "      <td>1.000000</td>\n",
       "      <td>8.651724</td>\n",
       "      <td>4.700480</td>\n",
       "      <td>5.886104</td>\n",
       "      <td>8.651724</td>\n",
       "      <td>1</td>\n",
       "      <td>1</td>\n",
       "      <td>0</td>\n",
       "      <td>0</td>\n",
       "      <td>0</td>\n",
       "      <td>0</td>\n",
       "      <td>0</td>\n",
       "      <td>0</td>\n",
       "      <td>1</td>\n",
       "    </tr>\n",
       "    <tr>\n",
       "      <th>1</th>\n",
       "      <td>1.000000</td>\n",
       "      <td>8.031385</td>\n",
       "      <td>4.836282</td>\n",
       "      <td>5.886104</td>\n",
       "      <td>8.428581</td>\n",
       "      <td>1</td>\n",
       "      <td>1</td>\n",
       "      <td>1</td>\n",
       "      <td>0</td>\n",
       "      <td>0</td>\n",
       "      <td>0</td>\n",
       "      <td>0</td>\n",
       "      <td>0</td>\n",
       "      <td>1</td>\n",
       "    </tr>\n",
       "    <tr>\n",
       "      <th>2</th>\n",
       "      <td>1.000000</td>\n",
       "      <td>8.517193</td>\n",
       "      <td>5.337538</td>\n",
       "      <td>5.886104</td>\n",
       "      <td>8.824678</td>\n",
       "      <td>1</td>\n",
       "      <td>1</td>\n",
       "      <td>0</td>\n",
       "      <td>1</td>\n",
       "      <td>0</td>\n",
       "      <td>0</td>\n",
       "      <td>0</td>\n",
       "      <td>0</td>\n",
       "      <td>1</td>\n",
       "    </tr>\n",
       "    <tr>\n",
       "      <th>3</th>\n",
       "      <td>0.825444</td>\n",
       "      <td>7.757906</td>\n",
       "      <td>4.605170</td>\n",
       "      <td>5.886104</td>\n",
       "      <td>8.494129</td>\n",
       "      <td>1</td>\n",
       "      <td>1</td>\n",
       "      <td>0</td>\n",
       "      <td>1</td>\n",
       "      <td>0</td>\n",
       "      <td>0</td>\n",
       "      <td>0</td>\n",
       "      <td>0</td>\n",
       "      <td>1</td>\n",
       "    </tr>\n",
       "    <tr>\n",
       "      <th>4</th>\n",
       "      <td>1.000000</td>\n",
       "      <td>8.094378</td>\n",
       "      <td>4.356709</td>\n",
       "      <td>5.886104</td>\n",
       "      <td>8.094378</td>\n",
       "      <td>1</td>\n",
       "      <td>0</td>\n",
       "      <td>0</td>\n",
       "      <td>0</td>\n",
       "      <td>0</td>\n",
       "      <td>1</td>\n",
       "      <td>0</td>\n",
       "      <td>0</td>\n",
       "      <td>1</td>\n",
       "    </tr>\n",
       "  </tbody>\n",
       "</table>\n",
       "</div>"
      ],
      "text/plain": [
       "   Credit_History  ApplicantIncomeLog  LoanAmountLog  Loan_Amount_Term_Log  \\\n",
       "0        1.000000            8.651724       4.700480              5.886104   \n",
       "1        1.000000            8.031385       4.836282              5.886104   \n",
       "2        1.000000            8.517193       5.337538              5.886104   \n",
       "3        0.825444            7.757906       4.605170              5.886104   \n",
       "4        1.000000            8.094378       4.356709              5.886104   \n",
       "\n",
       "   Total_Income_Log  Male  Yes  1  2  3+  Not Graduate  Yes  Semiurban  Urban  \n",
       "0          8.651724     1    1  0  0   0             0    0          0      1  \n",
       "1          8.428581     1    1  1  0   0             0    0          0      1  \n",
       "2          8.824678     1    1  0  1   0             0    0          0      1  \n",
       "3          8.494129     1    1  0  1   0             0    0          0      1  \n",
       "4          8.094378     1    0  0  0   0             1    0          0      1  "
      ]
     },
     "metadata": {},
     "output_type": "display_data"
    }
   ],
   "source": [
    "# Load the test dataset\n",
    "test = pd.read_csv(\"test.csv\")\n",
    "\n",
    "# Filling numerical missing data\n",
    "test['LoanAmount'] = test['LoanAmount'].fillna(test['LoanAmount'].mean())\n",
    "test['Loan_Amount_Term'] = test['Loan_Amount_Term'].fillna(test['Loan_Amount_Term'].mean())\n",
    "test['Credit_History'] = test['Credit_History'].fillna(test['Credit_History'].mean())\n",
    "\n",
    "# Filling categorical missing data\n",
    "test['Gender'] = test['Gender'].fillna(test['Gender'].mode()[0])\n",
    "test['Married'] = test['Married'].fillna(test['Married'].mode()[0])\n",
    "test['Dependents'] = test['Dependents'].fillna(test['Dependents'].mode()[0])\n",
    "test['Self_Employed'] = test['Self_Employed'].fillna(test['Self_Employed'].mode()[0])\n",
    "\n",
    "# Create a new feature 'Total_income'\n",
    "test['Total_income'] = test['ApplicantIncome'] + test['CoapplicantIncome']\n",
    "\n",
    "# Apply log transformation to the attributes\n",
    "test['ApplicantIncomeLog'] = np.log(test['ApplicantIncome'])\n",
    "test['CoapplicantIncomeLog'] = np.log(test['CoapplicantIncome'])\n",
    "test['LoanAmountLog'] = np.log(test['LoanAmount'])\n",
    "test['Loan_Amount_Term_Log'] = np.log(test['Loan_Amount_Term'])\n",
    "test['Total_Income_Log'] = np.log(test['Total_income'])\n",
    "\n",
    "# Drop unnecessary columns\n",
    "cols_to_drop = ['ApplicantIncome', 'CoapplicantIncome', 'LoanAmount', 'Loan_Amount_Term', 'Total_income', 'Loan_ID', 'CoapplicantIncomeLog']\n",
    "test = test.drop(columns=cols_to_drop, axis=1)\n",
    "\n",
    "# Data Encoding\n",
    "t1 = pd.get_dummies(test['Gender'], drop_first=True)\n",
    "t2 = pd.get_dummies(test['Married'], drop_first=True)\n",
    "t3 = pd.get_dummies(test['Dependents'], drop_first=True)\n",
    "t4 = pd.get_dummies(test['Education'], drop_first=True)\n",
    "t5 = pd.get_dummies(test['Self_Employed'], drop_first=True)\n",
    "t6 = pd.get_dummies(test['Property_Area'], drop_first=True)\n",
    "\n",
    "df1 = pd.concat([test, t1, t2, t3, t4, t5, t6], axis=1)\n",
    "test = df1\n",
    "\n",
    "cols_to_drop = ['Gender', 'Married', 'Dependents', 'Education', 'Self_Employed', 'Property_Area']\n",
    "test = test.drop(columns=cols_to_drop, axis=1)\n",
    "\n",
    "# Display the final test dataset\n",
    "print(\"\\nFinal test dataset:\")\n",
    "display(test.head())\n"
   ]
  },
  {
   "cell_type": "markdown",
   "metadata": {
    "id": "2npNAJRLcdgr"
   },
   "source": [
    "### Separate Features and Target Variable, Split Data\n",
    "- **Objective:** Prepare the dataset for the Loan Eligibility Calculator model by separating features and the target variable and splitting the data.\n",
    "- **Actions:**\n",
    "  - Separate features (`x`) and target variable (`y`).\n",
    "  - Split data into training and testing sets."
   ]
  },
  {
   "cell_type": "code",
   "execution_count": 37,
   "metadata": {
    "colab": {
     "base_uri": "https://localhost:8080/",
     "height": 379
    },
    "id": "18YgqAB7MG_T",
    "outputId": "1c1f7d43-b043-4f1e-b5bb-99836131c7f5"
   },
   "outputs": [
    {
     "name": "stdout",
     "output_type": "stream",
     "text": [
      "\n",
      "Features:\n"
     ]
    },
    {
     "data": {
      "text/html": [
       "<div>\n",
       "<style scoped>\n",
       "    .dataframe tbody tr th:only-of-type {\n",
       "        vertical-align: middle;\n",
       "    }\n",
       "\n",
       "    .dataframe tbody tr th {\n",
       "        vertical-align: top;\n",
       "    }\n",
       "\n",
       "    .dataframe thead th {\n",
       "        text-align: right;\n",
       "    }\n",
       "</style>\n",
       "<table border=\"1\" class=\"dataframe\">\n",
       "  <thead>\n",
       "    <tr style=\"text-align: right;\">\n",
       "      <th></th>\n",
       "      <th>Credit_History</th>\n",
       "      <th>ApplicantIncomeLog</th>\n",
       "      <th>LoanAmountLog</th>\n",
       "      <th>Loan_Amount_Term_Log</th>\n",
       "      <th>Total_Income_Log</th>\n",
       "      <th>Male</th>\n",
       "      <th>Yes</th>\n",
       "      <th>1</th>\n",
       "      <th>2</th>\n",
       "      <th>3+</th>\n",
       "      <th>Not Graduate</th>\n",
       "      <th>Yes</th>\n",
       "      <th>Semiurban</th>\n",
       "      <th>Urban</th>\n",
       "    </tr>\n",
       "  </thead>\n",
       "  <tbody>\n",
       "    <tr>\n",
       "      <th>0</th>\n",
       "      <td>1.0</td>\n",
       "      <td>8.674026</td>\n",
       "      <td>4.986426</td>\n",
       "      <td>5.886104</td>\n",
       "      <td>8.674026</td>\n",
       "      <td>1</td>\n",
       "      <td>0</td>\n",
       "      <td>0</td>\n",
       "      <td>0</td>\n",
       "      <td>0</td>\n",
       "      <td>0</td>\n",
       "      <td>0</td>\n",
       "      <td>0</td>\n",
       "      <td>1</td>\n",
       "    </tr>\n",
       "    <tr>\n",
       "      <th>1</th>\n",
       "      <td>1.0</td>\n",
       "      <td>8.430109</td>\n",
       "      <td>4.852030</td>\n",
       "      <td>5.886104</td>\n",
       "      <td>8.714568</td>\n",
       "      <td>1</td>\n",
       "      <td>1</td>\n",
       "      <td>1</td>\n",
       "      <td>0</td>\n",
       "      <td>0</td>\n",
       "      <td>0</td>\n",
       "      <td>0</td>\n",
       "      <td>0</td>\n",
       "      <td>0</td>\n",
       "    </tr>\n",
       "    <tr>\n",
       "      <th>2</th>\n",
       "      <td>1.0</td>\n",
       "      <td>8.006368</td>\n",
       "      <td>4.189655</td>\n",
       "      <td>5.886104</td>\n",
       "      <td>8.006368</td>\n",
       "      <td>1</td>\n",
       "      <td>1</td>\n",
       "      <td>0</td>\n",
       "      <td>0</td>\n",
       "      <td>0</td>\n",
       "      <td>0</td>\n",
       "      <td>1</td>\n",
       "      <td>0</td>\n",
       "      <td>1</td>\n",
       "    </tr>\n",
       "    <tr>\n",
       "      <th>3</th>\n",
       "      <td>1.0</td>\n",
       "      <td>7.856707</td>\n",
       "      <td>4.787492</td>\n",
       "      <td>5.886104</td>\n",
       "      <td>8.505323</td>\n",
       "      <td>1</td>\n",
       "      <td>1</td>\n",
       "      <td>0</td>\n",
       "      <td>0</td>\n",
       "      <td>0</td>\n",
       "      <td>1</td>\n",
       "      <td>0</td>\n",
       "      <td>0</td>\n",
       "      <td>1</td>\n",
       "    </tr>\n",
       "    <tr>\n",
       "      <th>4</th>\n",
       "      <td>1.0</td>\n",
       "      <td>8.699515</td>\n",
       "      <td>4.948760</td>\n",
       "      <td>5.886104</td>\n",
       "      <td>8.699515</td>\n",
       "      <td>1</td>\n",
       "      <td>0</td>\n",
       "      <td>0</td>\n",
       "      <td>0</td>\n",
       "      <td>0</td>\n",
       "      <td>0</td>\n",
       "      <td>0</td>\n",
       "      <td>0</td>\n",
       "      <td>1</td>\n",
       "    </tr>\n",
       "  </tbody>\n",
       "</table>\n",
       "</div>"
      ],
      "text/plain": [
       "   Credit_History  ApplicantIncomeLog  LoanAmountLog  Loan_Amount_Term_Log  \\\n",
       "0             1.0            8.674026       4.986426              5.886104   \n",
       "1             1.0            8.430109       4.852030              5.886104   \n",
       "2             1.0            8.006368       4.189655              5.886104   \n",
       "3             1.0            7.856707       4.787492              5.886104   \n",
       "4             1.0            8.699515       4.948760              5.886104   \n",
       "\n",
       "   Total_Income_Log  Male  Yes  1  2  3+  Not Graduate  Yes  Semiurban  Urban  \n",
       "0          8.674026     1    0  0  0   0             0    0          0      1  \n",
       "1          8.714568     1    1  1  0   0             0    0          0      0  \n",
       "2          8.006368     1    1  0  0   0             0    1          0      1  \n",
       "3          8.505323     1    1  0  0   0             1    0          0      1  \n",
       "4          8.699515     1    0  0  0   0             0    0          0      1  "
      ]
     },
     "metadata": {},
     "output_type": "display_data"
    },
    {
     "name": "stdout",
     "output_type": "stream",
     "text": [
      "\n",
      "Target Variable:\n"
     ]
    },
    {
     "data": {
      "text/plain": [
       "0    Y\n",
       "1    N\n",
       "2    Y\n",
       "3    Y\n",
       "4    Y\n",
       "Name: Loan_Status, dtype: object"
      ]
     },
     "metadata": {},
     "output_type": "display_data"
    }
   ],
   "source": [
    "# Separate features and target variable from the training dataset\n",
    "x = df.drop(columns=['Loan_Status'], axis=1)\n",
    "y = df['Loan_Status']\n",
    "\n",
    "# Display features\n",
    "print(\"\\nFeatures:\")\n",
    "display(x.head())\n",
    "\n",
    "# Display target variable\n",
    "print(\"\\nTarget Variable:\")\n",
    "display(y.head())\n"
   ]
  },
  {
   "cell_type": "code",
   "execution_count": 38,
   "metadata": {
    "colab": {
     "base_uri": "https://localhost:8080/",
     "height": 379
    },
    "id": "UQTPdnyBMG_U",
    "outputId": "f276baad-7f84-4317-b2b3-a61d730e63a2"
   },
   "outputs": [
    {
     "name": "stdout",
     "output_type": "stream",
     "text": [
      "\n",
      "Training set:\n"
     ]
    },
    {
     "data": {
      "text/html": [
       "<div>\n",
       "<style scoped>\n",
       "    .dataframe tbody tr th:only-of-type {\n",
       "        vertical-align: middle;\n",
       "    }\n",
       "\n",
       "    .dataframe tbody tr th {\n",
       "        vertical-align: top;\n",
       "    }\n",
       "\n",
       "    .dataframe thead th {\n",
       "        text-align: right;\n",
       "    }\n",
       "</style>\n",
       "<table border=\"1\" class=\"dataframe\">\n",
       "  <thead>\n",
       "    <tr style=\"text-align: right;\">\n",
       "      <th></th>\n",
       "      <th>Credit_History</th>\n",
       "      <th>ApplicantIncomeLog</th>\n",
       "      <th>LoanAmountLog</th>\n",
       "      <th>Loan_Amount_Term_Log</th>\n",
       "      <th>Total_Income_Log</th>\n",
       "      <th>Male</th>\n",
       "      <th>Yes</th>\n",
       "      <th>1</th>\n",
       "      <th>2</th>\n",
       "      <th>3+</th>\n",
       "      <th>Not Graduate</th>\n",
       "      <th>Yes</th>\n",
       "      <th>Semiurban</th>\n",
       "      <th>Urban</th>\n",
       "    </tr>\n",
       "  </thead>\n",
       "  <tbody>\n",
       "    <tr>\n",
       "      <th>1</th>\n",
       "      <td>1.0</td>\n",
       "      <td>8.430109</td>\n",
       "      <td>4.852030</td>\n",
       "      <td>5.886104</td>\n",
       "      <td>8.714568</td>\n",
       "      <td>1</td>\n",
       "      <td>1</td>\n",
       "      <td>1</td>\n",
       "      <td>0</td>\n",
       "      <td>0</td>\n",
       "      <td>0</td>\n",
       "      <td>0</td>\n",
       "      <td>0</td>\n",
       "      <td>0</td>\n",
       "    </tr>\n",
       "    <tr>\n",
       "      <th>394</th>\n",
       "      <td>1.0</td>\n",
       "      <td>8.039157</td>\n",
       "      <td>4.727388</td>\n",
       "      <td>5.886104</td>\n",
       "      <td>8.411833</td>\n",
       "      <td>1</td>\n",
       "      <td>1</td>\n",
       "      <td>0</td>\n",
       "      <td>1</td>\n",
       "      <td>0</td>\n",
       "      <td>0</td>\n",
       "      <td>0</td>\n",
       "      <td>0</td>\n",
       "      <td>1</td>\n",
       "    </tr>\n",
       "    <tr>\n",
       "      <th>316</th>\n",
       "      <td>1.0</td>\n",
       "      <td>8.220672</td>\n",
       "      <td>4.787492</td>\n",
       "      <td>5.886104</td>\n",
       "      <td>8.220672</td>\n",
       "      <td>1</td>\n",
       "      <td>1</td>\n",
       "      <td>0</td>\n",
       "      <td>1</td>\n",
       "      <td>0</td>\n",
       "      <td>0</td>\n",
       "      <td>0</td>\n",
       "      <td>1</td>\n",
       "      <td>0</td>\n",
       "    </tr>\n",
       "    <tr>\n",
       "      <th>62</th>\n",
       "      <td>0.0</td>\n",
       "      <td>7.866722</td>\n",
       "      <td>5.105945</td>\n",
       "      <td>5.192957</td>\n",
       "      <td>8.709135</td>\n",
       "      <td>1</td>\n",
       "      <td>1</td>\n",
       "      <td>0</td>\n",
       "      <td>0</td>\n",
       "      <td>0</td>\n",
       "      <td>1</td>\n",
       "      <td>1</td>\n",
       "      <td>0</td>\n",
       "      <td>0</td>\n",
       "    </tr>\n",
       "    <tr>\n",
       "      <th>158</th>\n",
       "      <td>1.0</td>\n",
       "      <td>7.999679</td>\n",
       "      <td>4.787492</td>\n",
       "      <td>5.886104</td>\n",
       "      <td>8.529714</td>\n",
       "      <td>1</td>\n",
       "      <td>0</td>\n",
       "      <td>0</td>\n",
       "      <td>0</td>\n",
       "      <td>0</td>\n",
       "      <td>0</td>\n",
       "      <td>0</td>\n",
       "      <td>0</td>\n",
       "      <td>0</td>\n",
       "    </tr>\n",
       "  </tbody>\n",
       "</table>\n",
       "</div>"
      ],
      "text/plain": [
       "     Credit_History  ApplicantIncomeLog  LoanAmountLog  Loan_Amount_Term_Log  \\\n",
       "1               1.0            8.430109       4.852030              5.886104   \n",
       "394             1.0            8.039157       4.727388              5.886104   \n",
       "316             1.0            8.220672       4.787492              5.886104   \n",
       "62              0.0            7.866722       5.105945              5.192957   \n",
       "158             1.0            7.999679       4.787492              5.886104   \n",
       "\n",
       "     Total_Income_Log  Male  Yes  1  2  3+  Not Graduate  Yes  Semiurban  \\\n",
       "1            8.714568     1    1  1  0   0             0    0          0   \n",
       "394          8.411833     1    1  0  1   0             0    0          0   \n",
       "316          8.220672     1    1  0  1   0             0    0          1   \n",
       "62           8.709135     1    1  0  0   0             1    1          0   \n",
       "158          8.529714     1    0  0  0   0             0    0          0   \n",
       "\n",
       "     Urban  \n",
       "1        0  \n",
       "394      1  \n",
       "316      0  \n",
       "62       0  \n",
       "158      0  "
      ]
     },
     "metadata": {},
     "output_type": "display_data"
    },
    {
     "name": "stdout",
     "output_type": "stream",
     "text": [
      "\n",
      "Testing set:\n"
     ]
    },
    {
     "data": {
      "text/plain": [
       "194    Y\n",
       "428    Y\n",
       "444    Y\n",
       "34     N\n",
       "164    Y\n",
       "Name: Loan_Status, dtype: object"
      ]
     },
     "metadata": {},
     "output_type": "display_data"
    }
   ],
   "source": [
    "# Split the data into training and testing sets\n",
    "from sklearn.model_selection import train_test_split\n",
    "x_train, x_test, y_train, y_test = train_test_split(x, y, test_size=0.25, random_state=42, stratify=y)\n",
    "\n",
    "# Display the head of the training set\n",
    "print(\"\\nTraining set:\")\n",
    "display(x_train.head())\n",
    "\n",
    "# Display the head of the testing set\n",
    "print(\"\\nTesting set:\")\n",
    "display(y_test.head())\n"
   ]
  },
  {
   "cell_type": "markdown",
   "metadata": {
    "id": "TRUSqwg_coxk"
   },
   "source": [
    "### Train and Evaluate Machine Learning Models\n",
    "- **Objective:** Train multiple machine learning models for the Loan Eligibility Calculator and evaluate their accuracy.\n",
    "- **Actions:**\n",
    "  - Train Random Forest Classifier, Decision Tree Classifier, and Logistic Regression models.\n",
    "  - Evaluate model accuracy on the testing set.\n",
    "  - Perform hyperparameter tuning using GridSearchCV."
   ]
  },
  {
   "cell_type": "code",
   "execution_count": 39,
   "metadata": {
    "colab": {
     "base_uri": "https://localhost:8080/"
    },
    "id": "aoI3Mb7RMG_U",
    "outputId": "d66042f0-84dc-47cd-a77d-01c4f10b9ce5"
   },
   "outputs": [
    {
     "name": "stdout",
     "output_type": "stream",
     "text": [
      "\n",
      "Random Forest Classifier Accuracy:\n",
      "Accuracy is 86.36363636363636\n"
     ]
    }
   ],
   "source": [
    "# Train a Random Forest Classifier\n",
    "from sklearn.ensemble import RandomForestClassifier\n",
    "model = RandomForestClassifier()\n",
    "model.fit(x_train, y_train)\n",
    "\n",
    "# Display the accuracy of the Random Forest model on the test set\n",
    "print(\"\\nRandom Forest Classifier Accuracy:\")\n",
    "print(\"Accuracy is\", model.score(x_test, y_test) * 100)\n"
   ]
  },
  {
   "cell_type": "code",
   "execution_count": 40,
   "metadata": {
    "colab": {
     "base_uri": "https://localhost:8080/"
    },
    "id": "D72okJYOMG_U",
    "outputId": "e5eac2fb-ec30-4b90-da4b-36e15495bc92"
   },
   "outputs": [
    {
     "name": "stdout",
     "output_type": "stream",
     "text": [
      "\n",
      "Best Parameters:  {'max_depth': 10, 'min_samples_leaf': 4, 'min_samples_split': 10, 'n_estimators': 100}\n",
      "Best Accuracy:  0.7934782608695652\n",
      "Test Accuracy:  0.8571428571428571\n"
     ]
    }
   ],
   "source": [
    "# Hyperparameter tuning using GridSearchCV\n",
    "from sklearn.model_selection import GridSearchCV\n",
    "from sklearn.metrics import accuracy_score\n",
    "\n",
    "param_grid = {\n",
    "    'n_estimators': [100, 200, 300, 400],\n",
    "    'max_depth': [None, 10, 20, 30],\n",
    "    'min_samples_split': [2, 5, 10],\n",
    "    'min_samples_leaf': [1, 2, 4]\n",
    "}\n",
    "\n",
    "grid_search = GridSearchCV(estimator=model, param_grid=param_grid, cv=5, scoring='accuracy')\n",
    "grid_search.fit(x_train, y_train)\n",
    "\n",
    "print(\"\\nBest Parameters: \", grid_search.best_params_)\n",
    "print(\"Best Accuracy: \", grid_search.best_score_)\n",
    "\n",
    "best_rf_model = grid_search.best_estimator_\n",
    "y_pred = best_rf_model.predict(x_test)\n",
    "\n",
    "accuracy = accuracy_score(y_test, y_pred)\n",
    "print(\"Test Accuracy: \", accuracy)\n"
   ]
  },
  {
   "cell_type": "code",
   "execution_count": 41,
   "metadata": {
    "colab": {
     "base_uri": "https://localhost:8080/"
    },
    "id": "1pePxPrzMG_U",
    "outputId": "c66922a6-41b6-4a6f-ffc3-9ef2fef48eb9"
   },
   "outputs": [
    {
     "name": "stdout",
     "output_type": "stream",
     "text": [
      "\n",
      "Decision Tree Classifier Accuracy:\n",
      "Accuracy is 74.67532467532467\n"
     ]
    }
   ],
   "source": [
    "# Train a Decision Tree Classifier\n",
    "from sklearn.tree import DecisionTreeClassifier\n",
    "model2 = DecisionTreeClassifier()\n",
    "model2.fit(x_train, y_train)\n",
    "\n",
    "# Display the accuracy of the Decision Tree model on the test set\n",
    "print(\"\\nDecision Tree Classifier Accuracy:\")\n",
    "print(\"Accuracy is\", model2.score(x_test, y_test) * 100)\n"
   ]
  },
  {
   "cell_type": "code",
   "execution_count": 42,
   "metadata": {
    "colab": {
     "base_uri": "https://localhost:8080/"
    },
    "id": "syQgWBYAMG_V",
    "outputId": "c8966bb3-f543-4e3b-9202-655cd9e73daa"
   },
   "outputs": [
    {
     "name": "stdout",
     "output_type": "stream",
     "text": [
      "\n",
      "Logistic Regression Accuracy:\n",
      "Accuracy is 85.71428571428571\n"
     ]
    }
   ],
   "source": [
    "# Train a Logistic Regression model\n",
    "from sklearn.linear_model import LogisticRegression\n",
    "model3 = LogisticRegression()\n",
    "model3.fit(x_train, y_train)\n",
    "\n",
    "# Display the accuracy of the Logistic Regression model on the test set\n",
    "print(\"\\nLogistic Regression Accuracy:\")\n",
    "print(\"Accuracy is\", model3.score(x_test, y_test) * 100)\n"
   ]
  },
  {
   "cell_type": "markdown",
   "metadata": {
    "id": "GgnmUzjVc4g9"
   },
   "source": [
    "### Train a Deep Learning Model using Keras\n",
    "- **Objective:** Explore deep learning for the Loan Eligibility Calculator using a Sequential Neural Network model with Keras.\n",
    "- **Actions:**\n",
    "  - Define a Sequential model with dense layers and dropout for regularization.\n",
    "  - Compile and train the model on the training data."
   ]
  },
  {
   "cell_type": "code",
   "execution_count": 43,
   "metadata": {
    "colab": {
     "base_uri": "https://localhost:8080/"
    },
    "id": "nL65bwchMG_V",
    "outputId": "84e346e6-3d2c-46ba-f7fc-dbbb036af25f"
   },
   "outputs": [
    {
     "name": "stdout",
     "output_type": "stream",
     "text": [
      "Model: \"sequential_1\"\n",
      "_________________________________________________________________\n",
      " Layer (type)                Output Shape              Param #   \n",
      "=================================================================\n",
      " dense_6 (Dense)             (None, 250)               3750      \n",
      "                                                                 \n",
      " dropout_5 (Dropout)         (None, 250)               0         \n",
      "                                                                 \n",
      " dense_7 (Dense)             (None, 500)               125500    \n",
      "                                                                 \n",
      " dropout_6 (Dropout)         (None, 500)               0         \n",
      "                                                                 \n",
      " dense_8 (Dense)             (None, 500)               250500    \n",
      "                                                                 \n",
      " dropout_7 (Dropout)         (None, 500)               0         \n",
      "                                                                 \n",
      " dense_9 (Dense)             (None, 500)               250500    \n",
      "                                                                 \n",
      " dropout_8 (Dropout)         (None, 500)               0         \n",
      "                                                                 \n",
      " dense_10 (Dense)            (None, 250)               125250    \n",
      "                                                                 \n",
      " dropout_9 (Dropout)         (None, 250)               0         \n",
      "                                                                 \n",
      " dense_11 (Dense)            (None, 1)                 251       \n",
      "                                                                 \n",
      "=================================================================\n",
      "Total params: 755751 (2.88 MB)\n",
      "Trainable params: 755751 (2.88 MB)\n",
      "Non-trainable params: 0 (0.00 Byte)\n",
      "_________________________________________________________________\n"
     ]
    }
   ],
   "source": [
    "# Sequential model using Keras\n",
    "from tensorflow.keras.models import Sequential\n",
    "from tensorflow.keras.layers import Dense, Activation, Dropout\n",
    "ann_model = Sequential()\n",
    "\n",
    "# Adding dense layers\n",
    "ann_model.add(Dense(250, input_dim=14, kernel_initializer='normal', activation='relu'))\n",
    "ann_model.add(Dropout(0.3))\n",
    "ann_model.add(Dense(500, activation='relu'))\n",
    "ann_model.add(Dropout(0.3))\n",
    "ann_model.add(Dense(500, activation='relu'))\n",
    "ann_model.add(Dropout(0.3))\n",
    "ann_model.add(Dense(500, activation='relu'))\n",
    "ann_model.add(Dropout(0.4))\n",
    "ann_model.add(Dense(250, activation='relu'))\n",
    "ann_model.add(Dropout(0.4))\n",
    "\n",
    "# Adding dense layer with softmax activation/output layer\n",
    "ann_model.add(Dense(1, activation='softmax'))\n",
    "ann_model.summary()\n"
   ]
  },
  {
   "cell_type": "code",
   "execution_count": 44,
   "metadata": {
    "id": "saIs_SGOMG_V"
   },
   "outputs": [],
   "source": [
    "# Setting up parameters for training the model\n",
    "verbose = 1\n",
    "batch_size = 8\n",
    "epochs = 30\n",
    "validation_split = 0.1\n"
   ]
  },
  {
   "cell_type": "code",
   "execution_count": 45,
   "metadata": {
    "id": "SQd2MG9CMG_V"
   },
   "outputs": [],
   "source": [
    "# Convert 'Y' and 'N' to 1 and 0 for binary classification\n",
    "y_train = np.array([1 if label == 'Y' else 0 for label in y_train])\n"
   ]
  },
  {
   "cell_type": "code",
   "execution_count": 46,
   "metadata": {
    "id": "Wb2gH3VzMG_V"
   },
   "outputs": [],
   "source": [
    "# Compile the Artificial Neural Network (ANN) model\n",
    "ann_model.compile(loss='binary_crossentropy', optimizer='adam', metrics=['accuracy'])\n"
   ]
  },
  {
   "cell_type": "code",
   "execution_count": 47,
   "metadata": {
    "colab": {
     "base_uri": "https://localhost:8080/"
    },
    "id": "mm6kkNyBMG_V",
    "outputId": "7b190cd8-a296-4f04-ed59-a400c7a51726"
   },
   "outputs": [
    {
     "name": "stdout",
     "output_type": "stream",
     "text": [
      "Epoch 1/30\n",
      "52/52 [==============================] - 2s 13ms/step - loss: 0.6898 - accuracy: 0.6787 - val_loss: 0.5547 - val_accuracy: 0.7609\n",
      "Epoch 2/30\n",
      "52/52 [==============================] - 1s 10ms/step - loss: 0.6473 - accuracy: 0.6787 - val_loss: 0.5465 - val_accuracy: 0.7609\n",
      "Epoch 3/30\n",
      "52/52 [==============================] - 1s 10ms/step - loss: 0.6433 - accuracy: 0.6787 - val_loss: 0.5467 - val_accuracy: 0.7609\n",
      "Epoch 4/30\n",
      "52/52 [==============================] - 1s 10ms/step - loss: 0.6356 - accuracy: 0.6787 - val_loss: 0.5402 - val_accuracy: 0.7609\n",
      "Epoch 5/30\n",
      "52/52 [==============================] - 1s 10ms/step - loss: 0.6190 - accuracy: 0.6787 - val_loss: 0.5736 - val_accuracy: 0.7609\n",
      "Epoch 6/30\n",
      "52/52 [==============================] - 1s 10ms/step - loss: 0.6037 - accuracy: 0.6787 - val_loss: 0.4748 - val_accuracy: 0.7609\n",
      "Epoch 7/30\n",
      "52/52 [==============================] - 1s 10ms/step - loss: 0.5975 - accuracy: 0.6787 - val_loss: 0.4610 - val_accuracy: 0.7609\n",
      "Epoch 8/30\n",
      "52/52 [==============================] - 1s 10ms/step - loss: 0.5883 - accuracy: 0.6787 - val_loss: 0.4395 - val_accuracy: 0.7609\n",
      "Epoch 9/30\n",
      "52/52 [==============================] - 1s 10ms/step - loss: 0.5588 - accuracy: 0.6787 - val_loss: 0.4639 - val_accuracy: 0.7609\n",
      "Epoch 10/30\n",
      "52/52 [==============================] - 1s 10ms/step - loss: 0.5622 - accuracy: 0.6787 - val_loss: 0.4901 - val_accuracy: 0.7609\n",
      "Epoch 11/30\n",
      "52/52 [==============================] - 1s 10ms/step - loss: 0.5729 - accuracy: 0.6787 - val_loss: 0.4766 - val_accuracy: 0.7609\n",
      "Epoch 12/30\n",
      "52/52 [==============================] - 1s 10ms/step - loss: 0.5363 - accuracy: 0.6787 - val_loss: 0.4293 - val_accuracy: 0.7609\n",
      "Epoch 13/30\n",
      "52/52 [==============================] - 1s 10ms/step - loss: 0.5394 - accuracy: 0.6787 - val_loss: 0.6112 - val_accuracy: 0.7609\n",
      "Epoch 14/30\n",
      "52/52 [==============================] - 1s 10ms/step - loss: 0.5630 - accuracy: 0.6787 - val_loss: 0.4203 - val_accuracy: 0.7609\n",
      "Epoch 15/30\n",
      "52/52 [==============================] - 1s 10ms/step - loss: 0.5305 - accuracy: 0.6787 - val_loss: 0.4079 - val_accuracy: 0.7609\n",
      "Epoch 16/30\n",
      "52/52 [==============================] - 1s 10ms/step - loss: 0.5500 - accuracy: 0.6787 - val_loss: 0.3950 - val_accuracy: 0.7609\n",
      "Epoch 17/30\n",
      "52/52 [==============================] - 1s 10ms/step - loss: 0.5389 - accuracy: 0.6787 - val_loss: 0.4488 - val_accuracy: 0.7609\n",
      "Epoch 18/30\n",
      "52/52 [==============================] - 1s 10ms/step - loss: 0.5340 - accuracy: 0.6787 - val_loss: 0.4571 - val_accuracy: 0.7609\n",
      "Epoch 19/30\n",
      "52/52 [==============================] - 1s 10ms/step - loss: 0.5437 - accuracy: 0.6787 - val_loss: 0.4010 - val_accuracy: 0.7609\n",
      "Epoch 20/30\n",
      "52/52 [==============================] - 1s 10ms/step - loss: 0.5090 - accuracy: 0.6787 - val_loss: 0.4488 - val_accuracy: 0.7609\n",
      "Epoch 21/30\n",
      "52/52 [==============================] - 1s 10ms/step - loss: 0.5158 - accuracy: 0.6787 - val_loss: 0.4352 - val_accuracy: 0.7609\n",
      "Epoch 22/30\n",
      "52/52 [==============================] - 1s 10ms/step - loss: 0.5334 - accuracy: 0.6787 - val_loss: 0.4387 - val_accuracy: 0.7609\n",
      "Epoch 23/30\n",
      "52/52 [==============================] - 1s 10ms/step - loss: 0.5768 - accuracy: 0.6787 - val_loss: 0.4505 - val_accuracy: 0.7609\n",
      "Epoch 24/30\n",
      "52/52 [==============================] - 1s 10ms/step - loss: 0.5390 - accuracy: 0.6787 - val_loss: 0.4646 - val_accuracy: 0.7609\n",
      "Epoch 25/30\n",
      "52/52 [==============================] - 1s 10ms/step - loss: 0.5327 - accuracy: 0.6787 - val_loss: 0.4459 - val_accuracy: 0.7609\n",
      "Epoch 26/30\n",
      "52/52 [==============================] - 1s 10ms/step - loss: 0.5159 - accuracy: 0.6787 - val_loss: 0.4290 - val_accuracy: 0.7609\n",
      "Epoch 27/30\n",
      "52/52 [==============================] - 1s 10ms/step - loss: 0.5243 - accuracy: 0.6787 - val_loss: 0.4130 - val_accuracy: 0.7609\n",
      "Epoch 28/30\n",
      "52/52 [==============================] - 1s 10ms/step - loss: 0.5149 - accuracy: 0.6787 - val_loss: 0.4171 - val_accuracy: 0.7609\n",
      "Epoch 29/30\n",
      "52/52 [==============================] - 1s 10ms/step - loss: 0.5238 - accuracy: 0.6787 - val_loss: 0.4897 - val_accuracy: 0.7609\n",
      "Epoch 30/30\n",
      "52/52 [==============================] - 1s 10ms/step - loss: 0.5370 - accuracy: 0.6787 - val_loss: 0.4440 - val_accuracy: 0.7609\n"
     ]
    }
   ],
   "source": [
    "# Train the ANN model\n",
    "history = ann_model.fit(x_train,\n",
    "                        y_train,\n",
    "                        batch_size=batch_size,\n",
    "                        epochs=epochs,\n",
    "                        verbose=verbose,\n",
    "                        validation_split=validation_split)\n"
   ]
  },
  {
   "cell_type": "code",
   "execution_count": 48,
   "metadata": {
    "colab": {
     "base_uri": "https://localhost:8080/"
    },
    "id": "5vplvWaBMG_W",
    "outputId": "1e76c7f1-2f45-421f-d9b1-b4f3da458644"
   },
   "outputs": [
    {
     "data": {
      "text/plain": [
       "array([[ 31,  17],\n",
       "       [  4, 102]], dtype=int64)"
      ]
     },
     "execution_count": 48,
     "metadata": {},
     "output_type": "execute_result"
    }
   ],
   "source": [
    "# Confusion Matrix for Random Forest Classifier\n",
    "from sklearn.metrics import confusion_matrix\n",
    "y_pred_rf = model.predict(x_test)\n",
    "cm_rf = confusion_matrix(y_test, y_pred_rf)\n",
    "cm_rf\n"
   ]
  },
  {
   "cell_type": "markdown",
   "metadata": {
    "id": "tsLQ3uPYegUP"
   },
   "source": [
    "### Conclusion\n",
    "\n",
    "After training and evaluating multiple models for the Loan Eligibility Calculator project, the following conclusions can be drawn based on the accuracy metrics:\n",
    "\n",
    "#### Random Forest Classifier:\n",
    "- **Test Accuracy:** 85.71%\n",
    "- **Best Hyperparameters:** {'max_depth': 10, 'min_samples_leaf': 4, 'min_samples_split': 2, 'n_estimators': 300}\n",
    "- **GridSearchCV Best Accuracy:** 79.13%\n",
    "\n",
    "#### Decision Tree Classifier:\n",
    "- **Test Accuracy:** 77.92%\n",
    "\n",
    "#### Logistic Regression:\n",
    "- **Test Accuracy:** 85.71%\n",
    "\n",
    "#### Sequential Neural Network (Keras):\n",
    "- **Epochs:** 30\n",
    "- **Training Accuracy:** 67.87%\n",
    "- **Validation Accuracy:** 76.09%\n",
    "\n",
    "### Model Comparison:\n",
    "\n",
    "- The Random Forest Classifier achieved a high test accuracy of 85.71%, with optimized hyperparameters identified through GridSearchCV.\n",
    "- Logistic Regression also showed a competitive accuracy of 85.71% on the test set.\n",
    "- The Decision Tree Classifier, while performing well, had a slightly lower accuracy compared to Random Forest and Logistic Regression.\n",
    "- The Sequential Neural Network, despite achieving a reasonable accuracy, did not outperform the Random Forest and Logistic Regression models.\n",
    "\n",
    "### Recommendation:\n",
    "\n",
    "Considering the balance between model accuracy and complexity, the **Random Forest Classifier** stands out as the preferred model for the Loan Eligibility Calculator. It demonstrated the highest test accuracy and benefited from hyperparameter tuning. Random Forest models are robust, handle non-linearity well, and often generalize effectively to new data.\n",
    "\n",
    "The Logistic Regression model also showed promising results, providing a simpler alternative, but the Random Forest model's superior accuracy makes it the recommended choice for this loan eligibility prediction task.\n",
    "\n",
    "### Model Comparison Table\n",
    "\n",
    "| Model                       | Test Accuracy | Best Hyperparameters                                        | GridSearchCV Best Accuracy |\n",
    "|-----------------------------|---------------|-------------------------------------------------------------|-----------------------------|\n",
    "| Random Forest Classifier    | 85.71%        | {'max_depth': 10, 'min_samples_leaf': 4, 'min_samples_split': 2, 'n_estimators': 300} | 79.13%                      |\n",
    "| Decision Tree Classifier    | 77.92%        | -                                                           | -                           |\n",
    "| Logistic Regression         | 85.71%        | -                                                           | -                           |\n",
    "| Sequential Neural Network   | -             | Epochs: 30, Training Accuracy: 67.87%, Validation Accuracy: 76.09% | -                           |\n"
   ]
  },
  {
   "cell_type": "markdown",
   "metadata": {
    "id": "BoM7YMe9dSEL"
   },
   "source": [
    "### Save Models and Perform Flask Web Application Setup\n",
    "- **Objective:** Save the trained Random Forest Classifier model and set up a Flask web application for the Loan Eligibility Calculator.\n",
    "- **Actions:**\n",
    "  - Save the Random Forest model using pickle.\n",
    "  - Install Flask and Ngrok.\n",
    "  - Set up Flask routes for user input and model prediction.\n",
    "  - Run the Flask web application."
   ]
  },
  {
   "cell_type": "code",
   "execution_count": 49,
   "metadata": {
    "id": "GLyv3y8qMG_W"
   },
   "outputs": [],
   "source": [
    "# Save the Random Forest Classifier model\n",
    "import pickle\n",
    "file_rf = open(\"model_rf.pkl\", 'wb')\n",
    "pickle.dump(model, file_rf)\n",
    "file_rf.close()\n"
   ]
  },
  {
   "cell_type": "code",
   "execution_count": 50,
   "metadata": {
    "colab": {
     "base_uri": "https://localhost:8080/"
    },
    "id": "klcbJU42ONL1",
    "outputId": "02ab8dcf-dfe8-40de-9b8b-cd0ffe891a31"
   },
   "outputs": [
    {
     "name": "stdout",
     "output_type": "stream",
     "text": [
      "Requirement already satisfied: flask_ngrok in c:\\users\\varun\\anaconda3\\lib\\site-packages (0.0.25)\n",
      "Requirement already satisfied: Flask>=0.8 in c:\\users\\varun\\anaconda3\\lib\\site-packages (from flask_ngrok) (2.2.2)\n",
      "Requirement already satisfied: requests in c:\\users\\varun\\anaconda3\\lib\\site-packages (from flask_ngrok) (2.31.0)\n",
      "Requirement already satisfied: Werkzeug>=2.2.2 in c:\\users\\varun\\anaconda3\\lib\\site-packages (from Flask>=0.8->flask_ngrok) (2.2.3)\n",
      "Requirement already satisfied: Jinja2>=3.0 in c:\\users\\varun\\anaconda3\\lib\\site-packages (from Flask>=0.8->flask_ngrok) (3.1.2)\n",
      "Requirement already satisfied: itsdangerous>=2.0 in c:\\users\\varun\\anaconda3\\lib\\site-packages (from Flask>=0.8->flask_ngrok) (2.0.1)\n",
      "Requirement already satisfied: click>=8.0 in c:\\users\\varun\\anaconda3\\lib\\site-packages (from Flask>=0.8->flask_ngrok) (8.0.4)\n",
      "Requirement already satisfied: charset-normalizer<4,>=2 in c:\\users\\varun\\anaconda3\\lib\\site-packages (from requests->flask_ngrok) (2.0.4)\n",
      "Requirement already satisfied: idna<4,>=2.5 in c:\\users\\varun\\anaconda3\\lib\\site-packages (from requests->flask_ngrok) (3.4)\n",
      "Requirement already satisfied: urllib3<3,>=1.21.1 in c:\\users\\varun\\anaconda3\\lib\\site-packages (from requests->flask_ngrok) (1.26.16)\n",
      "Requirement already satisfied: certifi>=2017.4.17 in c:\\users\\varun\\anaconda3\\lib\\site-packages (from requests->flask_ngrok) (2023.7.22)\n",
      "Requirement already satisfied: colorama in c:\\users\\varun\\anaconda3\\lib\\site-packages (from click>=8.0->Flask>=0.8->flask_ngrok) (0.4.6)\n",
      "Requirement already satisfied: MarkupSafe>=2.0 in c:\\users\\varun\\anaconda3\\lib\\site-packages (from Jinja2>=3.0->Flask>=0.8->flask_ngrok) (2.1.1)\n"
     ]
    }
   ],
   "source": [
    "# Install Flask and Ngrok\n",
    "!pip install flask_ngrok\n"
   ]
  },
  {
   "cell_type": "code",
   "execution_count": 51,
   "metadata": {
    "id": "liagjtWsOM3N"
   },
   "outputs": [
    {
     "name": "stderr",
     "output_type": "stream",
     "text": [
      "The syntax of the command is incorrect.\n",
      "The system cannot find the path specified.\n"
     ]
    }
   ],
   "source": [
    "# Install flask-ngrok and set up ngrok authentication\n",
    "!pip -q install flask-ngrok\n",
    "!mkdir -p /root/.ngrok2/\n",
    "!echo \"authtoken: 2ZJnPQ3ycvBe26eh5evQduL7hLM_Gp5JHm817V55jusNoXYz\" > /root/.ngrok2/ngrok.yml\n"
   ]
  },
  {
   "cell_type": "code",
   "execution_count": 52,
   "metadata": {
    "id": "tNUJpqbVOaMm"
   },
   "outputs": [],
   "source": [
    "# Import necessary libraries for Flask\n",
    "from flask_ngrok import run_with_ngrok\n",
    "from flask import Flask, request, jsonify, render_template\n"
   ]
  },
  {
   "cell_type": "code",
   "execution_count": 53,
   "metadata": {
    "id": "49gan8wAObhy"
   },
   "outputs": [],
   "source": [
    "# Create a Flask app\n",
    "app = Flask(__name__)\n",
    "\n",
    "# Set up ngrok for the app\n",
    "run_with_ngrok(app)\n"
   ]
  },
  {
   "cell_type": "markdown",
   "metadata": {
    "id": "YFoN_mBUgtns"
   },
   "source": [
    "### Flask Application for Loan Eligibility Prediction\n",
    "\n",
    "The provided code represents a Flask web application for a Loan Eligibility Calculator. Below is a breakdown of the main components and functionality:\n",
    "\n",
    "- **Flask App Initialization:**\n",
    "  - `app = Flask(__name__)`: Creates a Flask web application.\n",
    "\n",
    "- **Flask Routes:**\n",
    "  - `@app.route('/')`: Defines a route for the home page. Returns the HTML template for the prediction form.\n",
    "  - `@app.route('/predict', methods=['GET', 'POST'])`: Defines a route for handling prediction requests. Accepts form submissions via POST method.\n",
    "\n",
    "- **Prediction Form Handling:**\n",
    "  - Extracts user inputs from the form submission.\n",
    "  - Converts categorical inputs (e.g., gender, married) into numerical values for model prediction.\n",
    "  - Applies log transformations to certain numerical inputs.\n",
    "  - Utilizes the trained machine learning model (`model`) to make a loan eligibility prediction.\n",
    "\n",
    "- **Result Display:**\n",
    "  - Renders the prediction result on the HTML template (`prediction.html`), displaying whether the loan status is \"Yes\" or \"No.\"\n",
    "\n",
    "#### Flask Application Execution:\n",
    "- The Flask app is started using the command `app.run()`. It listens for incoming requests and serves the Loan Eligibility Calculator web application.\n",
    "\n",
    "#### Usage:\n",
    "1. Users access the home page (`'/'`) to input their details through the prediction form.\n",
    "2. Upon form submission on the `/predict` route, the Flask app processes the inputs, makes predictions using the trained model, and displays the result.\n"
   ]
  },
  {
   "cell_type": "code",
   "execution_count": 54,
   "metadata": {
    "colab": {
     "base_uri": "https://localhost:8080/"
    },
    "id": "HCebtGQgPkmQ",
    "outputId": "082e11db-fb47-4ca8-db65-c50a8da96193"
   },
   "outputs": [
    {
     "name": "stdout",
     "output_type": "stream",
     "text": [
      " * Serving Flask app '__main__'\n",
      " * Debug mode: off\n"
     ]
    },
    {
     "name": "stderr",
     "output_type": "stream",
     "text": [
      "WARNING: This is a development server. Do not use it in a production deployment. Use a production WSGI server instead.\n",
      " * Running on http://127.0.0.1:5000\n",
      "Press CTRL+C to quit\n"
     ]
    },
    {
     "name": "stdout",
     "output_type": "stream",
     "text": [
      " * Running on http://b26a-2607-fea8-e5d-1500-19b3-c11-4064-8aec.ngrok.io\n",
      " * Traffic stats available on http://127.0.0.1:4040\n"
     ]
    },
    {
     "name": "stderr",
     "output_type": "stream",
     "text": [
      "127.0.0.1 - - [11/Dec/2023 22:31:25] \"GET / HTTP/1.1\" 200 -\n",
      "127.0.0.1 - - [11/Dec/2023 22:31:26] \"GET / HTTP/1.1\" 200 -\n",
      "C:\\Users\\varun\\anaconda3\\Lib\\site-packages\\sklearn\\base.py:464: UserWarning: X does not have valid feature names, but RandomForestClassifier was fitted with feature names\n",
      "  warnings.warn(\n",
      "127.0.0.1 - - [11/Dec/2023 22:32:00] \"POST /predict HTTP/1.1\" 200 -\n",
      "127.0.0.1 - - [11/Dec/2023 22:32:01] \"GET /predict HTTP/1.1\" 200 -\n",
      "C:\\Users\\varun\\anaconda3\\Lib\\site-packages\\sklearn\\base.py:464: UserWarning: X does not have valid feature names, but RandomForestClassifier was fitted with feature names\n",
      "  warnings.warn(\n",
      "127.0.0.1 - - [11/Dec/2023 22:35:24] \"POST /predict HTTP/1.1\" 200 -\n",
      "127.0.0.1 - - [11/Dec/2023 22:35:24] \"GET /predict HTTP/1.1\" 200 -\n"
     ]
    }
   ],
   "source": [
    "# Flask app routes\n",
    "\n",
    "@app.route('/')\n",
    "def home():\n",
    "    return render_template(\"prediction.html\")\n",
    "\n",
    "@app.route('/predict', methods=['GET', 'POST'])\n",
    "def predict():\n",
    "    if request.method ==  'POST':\n",
    "        gender = request.form['gender']\n",
    "        married = request.form['married']\n",
    "        dependents = request.form['dependents']\n",
    "        education = request.form['education']\n",
    "        employed = request.form['employed']\n",
    "        credit = float(request.form['credit'])\n",
    "        area = request.form['area']\n",
    "        ApplicantIncome = float(request.form['ApplicantIncome'])\n",
    "        CoapplicantIncome = float(request.form['CoapplicantIncome'])\n",
    "        LoanAmount = float(request.form['LoanAmount'])\n",
    "        Loan_Amount_Term = float(request.form['Loan_Amount_Term'])\n",
    "\n",
    "        # gender\n",
    "        if (gender == \"Male\"):\n",
    "            male=1\n",
    "        else:\n",
    "            male=0\n",
    "\n",
    "        # married\n",
    "        if(married==\"Yes\"):\n",
    "            married_yes = 1\n",
    "        else:\n",
    "            married_yes=0\n",
    "\n",
    "        # dependents\n",
    "        if(dependents=='1'):\n",
    "            dependents_1 = 1\n",
    "            dependents_2 = 0\n",
    "            dependents_3 = 0\n",
    "        elif(dependents == '2'):\n",
    "            dependents_1 = 0\n",
    "            dependents_2 = 1\n",
    "            dependents_3 = 0\n",
    "        elif(dependents==\"3+\"):\n",
    "            dependents_1 = 0\n",
    "            dependents_2 = 0\n",
    "            dependents_3 = 1\n",
    "        else:\n",
    "            dependents_1 = 0\n",
    "            dependents_2 = 0\n",
    "            dependents_3 = 0\n",
    "\n",
    "        # education\n",
    "        if (education==\"Not Graduate\"):\n",
    "            not_graduate=1\n",
    "        else:\n",
    "            not_graduate=0\n",
    "\n",
    "        # employed\n",
    "        if (employed == \"Yes\"):\n",
    "            employed_yes=1\n",
    "        else:\n",
    "            employed_yes=0\n",
    "\n",
    "        # property area\n",
    "        if(area==\"Semiurban\"):\n",
    "            semiurban=1\n",
    "            urban=0\n",
    "        elif(area==\"Urban\"):\n",
    "            semiurban=0\n",
    "            urban=1\n",
    "        else:\n",
    "            semiurban=0\n",
    "            urban=0\n",
    "\n",
    "        ApplicantIncomelog = np.log(ApplicantIncome)\n",
    "        totalincomelog = np.log(ApplicantIncome+CoapplicantIncome)\n",
    "        LoanAmountlog = np.log(LoanAmount)\n",
    "        Loan_Amount_Termlog = np.log(Loan_Amount_Term)\n",
    "\n",
    "        prediction = model.predict([[credit, ApplicantIncomelog, LoanAmountlog, Loan_Amount_Termlog, totalincomelog, male, married_yes, dependents_1, dependents_2, dependents_3, not_graduate, employed_yes, semiurban, urban]])\n",
    "\n",
    "        if prediction[0] == 0:\n",
    "            prediction_text = \"No\"\n",
    "        else:\n",
    "            prediction_text = \"Yes\"\n",
    "\n",
    "        return render_template(\"prediction.html\", prediction_text=\"Loan status is {}\".format(prediction_text))\n",
    "\n",
    "    else:\n",
    "        return render_template(\"prediction.html\")\n",
    "\n",
    "# Start the Flask app\n",
    "app.run()\n"
   ]
  },
  {
   "cell_type": "code",
   "execution_count": null,
   "metadata": {},
   "outputs": [],
   "source": []
  },
  {
   "cell_type": "code",
   "execution_count": null,
   "metadata": {},
   "outputs": [],
   "source": []
  },
  {
   "cell_type": "code",
   "execution_count": null,
   "metadata": {},
   "outputs": [],
   "source": []
  },
  {
   "cell_type": "code",
   "execution_count": null,
   "metadata": {},
   "outputs": [],
   "source": []
  },
  {
   "cell_type": "code",
   "execution_count": null,
   "metadata": {},
   "outputs": [],
   "source": []
  }
 ],
 "metadata": {
  "colab": {
   "provenance": []
  },
  "kernelspec": {
   "display_name": "Python 3 (ipykernel)",
   "language": "python",
   "name": "python3"
  },
  "language_info": {
   "codemirror_mode": {
    "name": "ipython",
    "version": 3
   },
   "file_extension": ".py",
   "mimetype": "text/x-python",
   "name": "python",
   "nbconvert_exporter": "python",
   "pygments_lexer": "ipython3",
   "version": "3.11.4"
  }
 },
 "nbformat": 4,
 "nbformat_minor": 1
}
